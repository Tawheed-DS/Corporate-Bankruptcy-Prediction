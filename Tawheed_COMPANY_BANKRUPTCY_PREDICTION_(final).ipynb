{
  "nbformat": 4,
  "nbformat_minor": 0,
  "metadata": {
    "colab": {
      "name": "Tawheed- COMPANY BANKRUPTCY PREDICTION (final).ipynb",
      "provenance": [],
      "collapsed_sections": [],
      "include_colab_link": true
    },
    "kernelspec": {
      "name": "python3",
      "display_name": "Python 3"
    },
    "language_info": {
      "name": "python"
    }
  },
  "cells": [
    {
      "cell_type": "markdown",
      "metadata": {
        "id": "view-in-github",
        "colab_type": "text"
      },
      "source": [
        "<a href=\"https://colab.research.google.com/github/Tawheed-DS/Corporate-Bankruptcy-Prediction/blob/main/Tawheed_COMPANY_BANKRUPTCY_PREDICTION_(final).ipynb\" target=\"_parent\"><img src=\"https://colab.research.google.com/assets/colab-badge.svg\" alt=\"Open In Colab\"/></a>"
      ]
    },
    {
      "cell_type": "markdown",
      "metadata": {
        "id": "LGcl5Bv9ed6u"
      },
      "source": [
        "# **Problem Statement**"
      ]
    },
    {
      "cell_type": "markdown",
      "metadata": {
        "id": "BVqiQpgOgBxB"
      },
      "source": [
        "Prediction of bankruptcy is a phenomenon of increasing interest to firms who\n",
        "stand to loose money because on unpaid debts. Since computers can store huge dataset\n",
        "pertaining to bankruptcy making accurate predictions from them before hand is becoming\n",
        "important. \n",
        "\n",
        "The data were collected from the Taiwan Economic Journal for the years 1999 to 2009. Company bankruptcy was defined based on the business regulations of the Taiwan Stock Exchange.\n",
        "\n",
        " In this project you will use various classification algorithms on bankruptcy\n",
        "dataset to predict bankruptcies with satisfying accuracies long before the actual event."
      ]
    },
    {
      "cell_type": "markdown",
      "metadata": {
        "id": "AzGDqdC4fZ-b"
      },
      "source": [
        "# **Attribute Information**"
      ]
    },
    {
      "cell_type": "markdown",
      "metadata": {
        "id": "3qiYAbXrejna"
      },
      "source": [
        "Updated column names and description to make the data easier to understand (Y = Output feature, X = Input features)\n",
        "\n",
        "Y - Bankrupt?: Class label 1 : Yes , 0: No \n",
        "\n",
        "X1 - ROA(C) before interest and depreciation before interest: Return On Total Assets(C)\n",
        "\n",
        "X2 - ROA(A) before interest and % after tax: Return On Total Assets(A)\n",
        "\n",
        "X3 - ROA(B) before interest and depreciation after tax: Return On Total Assets(B)\n",
        "\n",
        "X4 - Operating Gross Margin: Gross Profit/Net Sales\n",
        "\n",
        "X5 - Realized Sales Gross Margin: Realized Gross Profit/Net Sales\n",
        "\n",
        "X6 - Operating Profit Rate: Operating Income/Net Sales\n",
        "\n",
        "X7 - Pre-tax net Interest Rate: Pre-Tax Income/Net Sales\n",
        "\n",
        "X8 - After-tax net Interest Rate: Net Income/Net Sales\n",
        "\n",
        "X9 - Non-industry income and expenditure/revenue: Net Non-operating Income Ratio\n",
        "\n",
        "X10 - Continuous interest rate (after tax): Net Income-Exclude Disposal Gain or Loss/Net Sales\n",
        "\n",
        "X11 - Operating Expense Rate: Operating Expenses/Net Sales\n",
        "\n",
        "X12 - Research and development expense rate: (Research and Development Expenses)/Net Sales\n",
        "\n",
        "X13 - Cash flow rate: Cash Flow from Operating/Current Liabilities\n",
        "\n",
        "X14 - Interest-bearing debt interest rate: Interest-bearing Debt/Equity\n",
        "\n",
        "X15 - Tax rate (A): Effective Tax Rate\n",
        "\n",
        "X16 - Net Value Per Share (B): Book Value Per Share(B)\n",
        "\n",
        "X17 - Net Value Per Share (A): Book Value Per Share(A)\n",
        "\n",
        "X18 - Net Value Per Share (C): Book Value Per Share(C)\n",
        "\n",
        "X19 - Persistent EPS in the Last Four Seasons: EPS-Net Income\n",
        "\n",
        "X20 - Cash Flow Per Share\n",
        "\n",
        "X21 - Revenue Per Share (Yuan ¥): Sales Per Share\n",
        "\n",
        "X22 - Operating Profit Per Share (Yuan ¥): Operating Income Per Share\n",
        "\n",
        "X23 - Per Share Net profit before tax (Yuan ¥): Pretax Income Per Share\n",
        "\n",
        "X24 - Realized Sales Gross Profit Growth Rate\n",
        "\n",
        "X25 - Operating Profit Growth Rate: Operating Income Growth\n",
        "\n",
        "X26 - After-tax Net Profit Growth Rate: Net Income Growth\n",
        "\n",
        "X27 - Regular Net Profit Growth Rate: Continuing Operating Income after Tax Growth\n",
        "\n",
        "X28 - Continuous Net Profit Growth Rate: Net Income-Excluding Disposal Gain or Loss Growth\n",
        "\n",
        "X29 - Total Asset Growth Rate: Total Asset Growth\n",
        "\n",
        "X30 - Net Value Growth Rate: Total Equity Growth\n",
        "\n",
        "X31 - Total Asset Return Growth Rate Ratio: Return on Total Asset Growth\n",
        "\n",
        "X32 - Cash Reinvestment %: Cash Reinvestment Ratio\n",
        "\n",
        "X33 - Current Ratio\n",
        "\n",
        "X34 - Quick Ratio: Acid Test\n",
        "\n",
        "X35 - Interest Expense Ratio: Interest Expenses/Total Revenue\n",
        "\n",
        "X36 - Total debt/Total net worth: Total Liability/Equity Ratio\n",
        "\n",
        "X37 - Debt ratio %: Liability/Total Assets\n",
        "\n",
        "X38 - Net worth/Assets: Equity/Total Assets\n",
        "\n",
        "X39 - Long-term fund suitability ratio (A): (Long-term Liability+Equity)/Fixed Assets\n",
        "\n",
        "X40 - Borrowing dependency: Cost of Interest-bearing Debt\n",
        "\n",
        "X41 - Contingent liabilities/Net worth: Contingent Liability/Equity\n",
        "\n",
        "X42 - Operating profit/Paid-in capital: Operating Income/Capital\n",
        "\n",
        "X43 - Net profit before tax/Paid-in capital: Pretax Income/Capital\n",
        "\n",
        "X44 - Inventory and accounts receivable/Net value: (Inventory+Accounts Receivables)/Equity\n",
        "\n",
        "X45 - Total Asset Turnover\n",
        "\n",
        "X46 - Accounts Receivable Turnover\n",
        "\n",
        "X47 - Average Collection Days: Days Receivable Outstanding\n",
        "\n",
        "X48 - Inventory Turnover Rate (times)\n",
        "\n",
        "X49 - Fixed Assets Turnover Frequency\n",
        "\n",
        "X50 - Net Worth Turnover Rate (times): Equity Turnover\n",
        "\n",
        "X51 - Revenue per person: Sales Per Employee\n",
        "\n",
        "X52 - Operating profit per person: Operation Income Per Employee\n",
        "\n",
        "X53 - Allocation rate per person: Fixed Assets Per Employee\n",
        "\n",
        "X54 - Working Capital to Total Assets\n",
        "\n",
        "X55 - Quick Assets/Total Assets\n",
        "\n",
        "X56 - Current Assets/Total Assets\n",
        "\n",
        "X57 - Cash/Total Assets\n",
        "\n",
        "X58 - Quick Assets/Current Liability\n",
        "\n",
        "X59 - Cash/Current Liability\n",
        "\n",
        "X60 - Current Liability to Assets\n",
        "\n",
        "X61 - Operating Funds to Liability\n",
        "\n",
        "X62 - Inventory/Working Capital\n",
        "\n",
        "X63 - Inventory/Current Liability\n",
        "\n",
        "X64 - Current Liabilities/Liability\n",
        "\n",
        "X65 - Working Capital/Equity\n",
        "\n",
        "X66 - Current Liabilities/Equity\n",
        "\n",
        "X67 - Long-term Liability to Current Assets\n",
        "\n",
        "X68 - Retained Earnings to Total Assets\n",
        "\n",
        "X69 - Total income/Total expense\n",
        "\n",
        "X70 - Total expense/Assets\n",
        "\n",
        "X71 - Current Asset Turnover Rate: Current Assets to Sales\n",
        "\n",
        "X72 - Quick Asset Turnover Rate: Quick Assets to Sales\n",
        "\n",
        "X73 - Working capitcal Turnover Rate: Working Capital to Sales\n",
        "\n",
        "X74 - Cash Turnover Rate: Cash to Sales\n",
        "\n",
        "X75 - Cash Flow to Sales\n",
        "\n",
        "X76 - Fixed Assets to Assets\n",
        "\n",
        "X77 - Current Liability to Liability\n",
        "\n",
        "X78 - Current Liability to Equity\n",
        "\n",
        "X79 - Equity to Long-term Liability\n",
        "\n",
        "X80 - Cash Flow to Total Assets\n",
        "\n",
        "X81 - Cash Flow to Liability\n",
        "\n",
        "X82 - CFO to Assets\n",
        "\n",
        "X83 - Cash Flow to Equity\n",
        "\n",
        "X84 - Current Liability to Current Assets\n",
        "\n",
        "X85 - Liability-Assets Flag: 1 if Total Liability exceeds Total Assets, 0 otherwise\n",
        "\n",
        "X86 - Net Income to Total Assets\n",
        "\n",
        "X87 - Total assets to GNP price\n",
        "\n",
        "X88 - No-credit Interval\n",
        "\n",
        "X89 - Gross Profit to Sales\n",
        "\n",
        "X90 - Net Income to Stockholder's Equity\n",
        "\n",
        "X91 - Liability to Equity\n",
        "\n",
        "X92 - Degree of Financial Leverage (DFL)\n",
        "\n",
        "X93 - Interest Coverage Ratio (Interest expense to EBIT)\n",
        "\n",
        "X94 - Net Income Flag: 1 if Net Income is Negative for the last two years, 0 otherwise\n",
        "\n",
        "X95 - Equity to Liability"
      ]
    },
    {
      "cell_type": "markdown",
      "metadata": {
        "id": "Zzhf-9jozm2d"
      },
      "source": [
        "##<b>Importing important libraries</b>"
      ]
    },
    {
      "cell_type": "code",
      "metadata": {
        "id": "0FHv-eNi5RY4"
      },
      "source": [
        "import numpy as np\n",
        "import pandas as pd\n",
        "\n",
        "import matplotlib.pyplot as plt\n",
        "import seaborn as sns\n",
        "\n",
        "import warnings\n",
        "warnings.filterwarnings(\"ignore\")"
      ],
      "execution_count": 2,
      "outputs": []
    },
    {
      "cell_type": "code",
      "metadata": {
        "id": "m2AiIVDHbqQK"
      },
      "source": [
        "#Logistic Regression\n",
        "from sklearn.model_selection import train_test_split\n",
        "from sklearn.linear_model import LogisticRegression\n",
        "from sklearn.metrics import accuracy_score, confusion_matrix\n",
        "import seaborn as sns\n",
        "from sklearn.linear_model import LogisticRegressionCV\n",
        "from sklearn.model_selection import cross_validate\n",
        "\n",
        "#Decision Tree\n",
        "from sklearn.metrics import accuracy_score, auc\n",
        "from sklearn.model_selection import train_test_split\n",
        "from sklearn.tree import DecisionTreeClassifier\n",
        "\n",
        "#Random Forest\n",
        "from sklearn.model_selection import train_test_split\n",
        "from sklearn.ensemble import RandomForestClassifier\n",
        "from sklearn.ensemble import GradientBoostingClassifier\n",
        "from sklearn.model_selection import GridSearchCV\n",
        "from sklearn.metrics import roc_auc_score, confusion_matrix, accuracy_score\n",
        "\n",
        "#kmeans\n",
        "from sklearn.neighbors import KNeighborsClassifier\n",
        "\n",
        "#Naive Bayes\n",
        "from sklearn.naive_bayes import GaussianNB\n",
        "from sklearn.metrics import classification_report,confusion_matrix\n",
        "\n",
        "#Support Vector machines\n",
        "from sklearn.svm import SVC\n",
        "p = print"
      ],
      "execution_count": 3,
      "outputs": []
    },
    {
      "cell_type": "code",
      "metadata": {
        "colab": {
          "base_uri": "https://localhost:8080/"
        },
        "id": "siw-ZgpUz_72",
        "outputId": "7a9c7a5e-bb72-4618-a1ea-27e62d83942a"
      },
      "source": [
        "from google.colab import drive\n",
        "drive.mount('/content/drive')"
      ],
      "execution_count": 4,
      "outputs": [
        {
          "output_type": "stream",
          "name": "stdout",
          "text": [
            "Mounted at /content/drive\n"
          ]
        }
      ]
    },
    {
      "cell_type": "code",
      "metadata": {
        "id": "UU16VAZ94eoe"
      },
      "source": [
        "# Loading the dataset\n",
        "path = '/content/drive/MyDrive/Copy of COMPANY BANKRUPTCY PREDICTION.csv'"
      ],
      "execution_count": 5,
      "outputs": []
    },
    {
      "cell_type": "markdown",
      "metadata": {
        "id": "p51qkf6t0O47"
      },
      "source": [
        "##<b>Inspecting the dataset</b>"
      ]
    },
    {
      "cell_type": "code",
      "metadata": {
        "id": "njcrm_Jp5OyO"
      },
      "source": [
        "original_data = pd.read_csv(path)"
      ],
      "execution_count": 6,
      "outputs": []
    },
    {
      "cell_type": "code",
      "metadata": {
        "id": "g9lSegLd5oFY"
      },
      "source": [
        "original_data.head()\n",
        "# set all 93 cols visible\n",
        "pd.set_option('display.max_columns', 93)\n",
        "pd.set_option('display.max_rows', 93)"
      ],
      "execution_count": 7,
      "outputs": []
    },
    {
      "cell_type": "code",
      "metadata": {
        "colab": {
          "base_uri": "https://localhost:8080/"
        },
        "id": "8yLx3tXF3Ls7",
        "outputId": "bc8bff01-8a5d-43c9-b28b-806e2568b40e"
      },
      "source": [
        "original_data.shape"
      ],
      "execution_count": 8,
      "outputs": [
        {
          "output_type": "execute_result",
          "data": {
            "text/plain": [
              "(6819, 96)"
            ]
          },
          "metadata": {},
          "execution_count": 8
        }
      ]
    },
    {
      "cell_type": "code",
      "metadata": {
        "colab": {
          "base_uri": "https://localhost:8080/"
        },
        "id": "9joauWjO5q9S",
        "outputId": "8de16721-d61e-4094-f04d-02f80f7c97ab"
      },
      "source": [
        "original_data.info()"
      ],
      "execution_count": 9,
      "outputs": [
        {
          "output_type": "stream",
          "name": "stdout",
          "text": [
            "<class 'pandas.core.frame.DataFrame'>\n",
            "RangeIndex: 6819 entries, 0 to 6818\n",
            "Data columns (total 96 columns):\n",
            " #   Column                                                    Non-Null Count  Dtype  \n",
            "---  ------                                                    --------------  -----  \n",
            " 0   Bankrupt?                                                 6819 non-null   int64  \n",
            " 1    ROA(C) before interest and depreciation before interest  6819 non-null   float64\n",
            " 2    ROA(A) before interest and % after tax                   6819 non-null   float64\n",
            " 3    ROA(B) before interest and depreciation after tax        6819 non-null   float64\n",
            " 4    Operating Gross Margin                                   6819 non-null   float64\n",
            " 5    Realized Sales Gross Margin                              6819 non-null   float64\n",
            " 6    Operating Profit Rate                                    6819 non-null   float64\n",
            " 7    Pre-tax net Interest Rate                                6819 non-null   float64\n",
            " 8    After-tax net Interest Rate                              6819 non-null   float64\n",
            " 9    Non-industry income and expenditure/revenue              6819 non-null   float64\n",
            " 10   Continuous interest rate (after tax)                     6819 non-null   float64\n",
            " 11   Operating Expense Rate                                   6819 non-null   float64\n",
            " 12   Research and development expense rate                    6819 non-null   float64\n",
            " 13   Cash flow rate                                           6819 non-null   float64\n",
            " 14   Interest-bearing debt interest rate                      6819 non-null   float64\n",
            " 15   Tax rate (A)                                             6819 non-null   float64\n",
            " 16   Net Value Per Share (B)                                  6819 non-null   float64\n",
            " 17   Net Value Per Share (A)                                  6819 non-null   float64\n",
            " 18   Net Value Per Share (C)                                  6819 non-null   float64\n",
            " 19   Persistent EPS in the Last Four Seasons                  6819 non-null   float64\n",
            " 20   Cash Flow Per Share                                      6819 non-null   float64\n",
            " 21   Revenue Per Share (Yuan ¥)                               6819 non-null   float64\n",
            " 22   Operating Profit Per Share (Yuan ¥)                      6819 non-null   float64\n",
            " 23   Per Share Net profit before tax (Yuan ¥)                 6819 non-null   float64\n",
            " 24   Realized Sales Gross Profit Growth Rate                  6819 non-null   float64\n",
            " 25   Operating Profit Growth Rate                             6819 non-null   float64\n",
            " 26   After-tax Net Profit Growth Rate                         6819 non-null   float64\n",
            " 27   Regular Net Profit Growth Rate                           6819 non-null   float64\n",
            " 28   Continuous Net Profit Growth Rate                        6819 non-null   float64\n",
            " 29   Total Asset Growth Rate                                  6819 non-null   float64\n",
            " 30   Net Value Growth Rate                                    6819 non-null   float64\n",
            " 31   Total Asset Return Growth Rate Ratio                     6819 non-null   float64\n",
            " 32   Cash Reinvestment %                                      6819 non-null   float64\n",
            " 33   Current Ratio                                            6819 non-null   float64\n",
            " 34   Quick Ratio                                              6819 non-null   float64\n",
            " 35   Interest Expense Ratio                                   6819 non-null   float64\n",
            " 36   Total debt/Total net worth                               6819 non-null   float64\n",
            " 37   Debt ratio %                                             6819 non-null   float64\n",
            " 38   Net worth/Assets                                         6819 non-null   float64\n",
            " 39   Long-term fund suitability ratio (A)                     6819 non-null   float64\n",
            " 40   Borrowing dependency                                     6819 non-null   float64\n",
            " 41   Contingent liabilities/Net worth                         6819 non-null   float64\n",
            " 42   Operating profit/Paid-in capital                         6819 non-null   float64\n",
            " 43   Net profit before tax/Paid-in capital                    6819 non-null   float64\n",
            " 44   Inventory and accounts receivable/Net value              6819 non-null   float64\n",
            " 45   Total Asset Turnover                                     6819 non-null   float64\n",
            " 46   Accounts Receivable Turnover                             6819 non-null   float64\n",
            " 47   Average Collection Days                                  6819 non-null   float64\n",
            " 48   Inventory Turnover Rate (times)                          6819 non-null   float64\n",
            " 49   Fixed Assets Turnover Frequency                          6819 non-null   float64\n",
            " 50   Net Worth Turnover Rate (times)                          6819 non-null   float64\n",
            " 51   Revenue per person                                       6819 non-null   float64\n",
            " 52   Operating profit per person                              6819 non-null   float64\n",
            " 53   Allocation rate per person                               6819 non-null   float64\n",
            " 54   Working Capital to Total Assets                          6819 non-null   float64\n",
            " 55   Quick Assets/Total Assets                                6819 non-null   float64\n",
            " 56   Current Assets/Total Assets                              6819 non-null   float64\n",
            " 57   Cash/Total Assets                                        6819 non-null   float64\n",
            " 58   Quick Assets/Current Liability                           6819 non-null   float64\n",
            " 59   Cash/Current Liability                                   6819 non-null   float64\n",
            " 60   Current Liability to Assets                              6819 non-null   float64\n",
            " 61   Operating Funds to Liability                             6819 non-null   float64\n",
            " 62   Inventory/Working Capital                                6819 non-null   float64\n",
            " 63   Inventory/Current Liability                              6819 non-null   float64\n",
            " 64   Current Liabilities/Liability                            6819 non-null   float64\n",
            " 65   Working Capital/Equity                                   6819 non-null   float64\n",
            " 66   Current Liabilities/Equity                               6819 non-null   float64\n",
            " 67   Long-term Liability to Current Assets                    6819 non-null   float64\n",
            " 68   Retained Earnings to Total Assets                        6819 non-null   float64\n",
            " 69   Total income/Total expense                               6819 non-null   float64\n",
            " 70   Total expense/Assets                                     6819 non-null   float64\n",
            " 71   Current Asset Turnover Rate                              6819 non-null   float64\n",
            " 72   Quick Asset Turnover Rate                                6819 non-null   float64\n",
            " 73   Working capitcal Turnover Rate                           6819 non-null   float64\n",
            " 74   Cash Turnover Rate                                       6819 non-null   float64\n",
            " 75   Cash Flow to Sales                                       6819 non-null   float64\n",
            " 76   Fixed Assets to Assets                                   6819 non-null   float64\n",
            " 77   Current Liability to Liability                           6819 non-null   float64\n",
            " 78   Current Liability to Equity                              6819 non-null   float64\n",
            " 79   Equity to Long-term Liability                            6819 non-null   float64\n",
            " 80   Cash Flow to Total Assets                                6819 non-null   float64\n",
            " 81   Cash Flow to Liability                                   6819 non-null   float64\n",
            " 82   CFO to Assets                                            6819 non-null   float64\n",
            " 83   Cash Flow to Equity                                      6819 non-null   float64\n",
            " 84   Current Liability to Current Assets                      6819 non-null   float64\n",
            " 85   Liability-Assets Flag                                    6819 non-null   int64  \n",
            " 86   Net Income to Total Assets                               6819 non-null   float64\n",
            " 87   Total assets to GNP price                                6819 non-null   float64\n",
            " 88   No-credit Interval                                       6819 non-null   float64\n",
            " 89   Gross Profit to Sales                                    6819 non-null   float64\n",
            " 90   Net Income to Stockholder's Equity                       6819 non-null   float64\n",
            " 91   Liability to Equity                                      6819 non-null   float64\n",
            " 92   Degree of Financial Leverage (DFL)                       6819 non-null   float64\n",
            " 93   Interest Coverage Ratio (Interest expense to EBIT)       6819 non-null   float64\n",
            " 94   Net Income Flag                                          6819 non-null   int64  \n",
            " 95   Equity to Liability                                      6819 non-null   float64\n",
            "dtypes: float64(93), int64(3)\n",
            "memory usage: 5.0 MB\n"
          ]
        }
      ]
    },
    {
      "cell_type": "code",
      "metadata": {
        "colab": {
          "base_uri": "https://localhost:8080/",
          "height": 435
        },
        "id": "JaCPan8827vA",
        "outputId": "4b8a1f36-a85e-4d90-f02f-1edd1056e7b9"
      },
      "source": [
        "original_data.describe()"
      ],
      "execution_count": 10,
      "outputs": [
        {
          "output_type": "execute_result",
          "data": {
            "text/html": [
              "<div>\n",
              "<style scoped>\n",
              "    .dataframe tbody tr th:only-of-type {\n",
              "        vertical-align: middle;\n",
              "    }\n",
              "\n",
              "    .dataframe tbody tr th {\n",
              "        vertical-align: top;\n",
              "    }\n",
              "\n",
              "    .dataframe thead th {\n",
              "        text-align: right;\n",
              "    }\n",
              "</style>\n",
              "<table border=\"1\" class=\"dataframe\">\n",
              "  <thead>\n",
              "    <tr style=\"text-align: right;\">\n",
              "      <th></th>\n",
              "      <th>Bankrupt?</th>\n",
              "      <th>ROA(C) before interest and depreciation before interest</th>\n",
              "      <th>ROA(A) before interest and % after tax</th>\n",
              "      <th>ROA(B) before interest and depreciation after tax</th>\n",
              "      <th>Operating Gross Margin</th>\n",
              "      <th>Realized Sales Gross Margin</th>\n",
              "      <th>Operating Profit Rate</th>\n",
              "      <th>Pre-tax net Interest Rate</th>\n",
              "      <th>After-tax net Interest Rate</th>\n",
              "      <th>Non-industry income and expenditure/revenue</th>\n",
              "      <th>Continuous interest rate (after tax)</th>\n",
              "      <th>Operating Expense Rate</th>\n",
              "      <th>Research and development expense rate</th>\n",
              "      <th>Cash flow rate</th>\n",
              "      <th>Interest-bearing debt interest rate</th>\n",
              "      <th>Tax rate (A)</th>\n",
              "      <th>Net Value Per Share (B)</th>\n",
              "      <th>Net Value Per Share (A)</th>\n",
              "      <th>Net Value Per Share (C)</th>\n",
              "      <th>Persistent EPS in the Last Four Seasons</th>\n",
              "      <th>Cash Flow Per Share</th>\n",
              "      <th>Revenue Per Share (Yuan ¥)</th>\n",
              "      <th>Operating Profit Per Share (Yuan ¥)</th>\n",
              "      <th>Per Share Net profit before tax (Yuan ¥)</th>\n",
              "      <th>Realized Sales Gross Profit Growth Rate</th>\n",
              "      <th>Operating Profit Growth Rate</th>\n",
              "      <th>After-tax Net Profit Growth Rate</th>\n",
              "      <th>Regular Net Profit Growth Rate</th>\n",
              "      <th>Continuous Net Profit Growth Rate</th>\n",
              "      <th>Total Asset Growth Rate</th>\n",
              "      <th>Net Value Growth Rate</th>\n",
              "      <th>Total Asset Return Growth Rate Ratio</th>\n",
              "      <th>Cash Reinvestment %</th>\n",
              "      <th>Current Ratio</th>\n",
              "      <th>Quick Ratio</th>\n",
              "      <th>Interest Expense Ratio</th>\n",
              "      <th>Total debt/Total net worth</th>\n",
              "      <th>Debt ratio %</th>\n",
              "      <th>Net worth/Assets</th>\n",
              "      <th>Long-term fund suitability ratio (A)</th>\n",
              "      <th>Borrowing dependency</th>\n",
              "      <th>Contingent liabilities/Net worth</th>\n",
              "      <th>Operating profit/Paid-in capital</th>\n",
              "      <th>Net profit before tax/Paid-in capital</th>\n",
              "      <th>Inventory and accounts receivable/Net value</th>\n",
              "      <th>Total Asset Turnover</th>\n",
              "      <th>...</th>\n",
              "      <th>Net Worth Turnover Rate (times)</th>\n",
              "      <th>Revenue per person</th>\n",
              "      <th>Operating profit per person</th>\n",
              "      <th>Allocation rate per person</th>\n",
              "      <th>Working Capital to Total Assets</th>\n",
              "      <th>Quick Assets/Total Assets</th>\n",
              "      <th>Current Assets/Total Assets</th>\n",
              "      <th>Cash/Total Assets</th>\n",
              "      <th>Quick Assets/Current Liability</th>\n",
              "      <th>Cash/Current Liability</th>\n",
              "      <th>Current Liability to Assets</th>\n",
              "      <th>Operating Funds to Liability</th>\n",
              "      <th>Inventory/Working Capital</th>\n",
              "      <th>Inventory/Current Liability</th>\n",
              "      <th>Current Liabilities/Liability</th>\n",
              "      <th>Working Capital/Equity</th>\n",
              "      <th>Current Liabilities/Equity</th>\n",
              "      <th>Long-term Liability to Current Assets</th>\n",
              "      <th>Retained Earnings to Total Assets</th>\n",
              "      <th>Total income/Total expense</th>\n",
              "      <th>Total expense/Assets</th>\n",
              "      <th>Current Asset Turnover Rate</th>\n",
              "      <th>Quick Asset Turnover Rate</th>\n",
              "      <th>Working capitcal Turnover Rate</th>\n",
              "      <th>Cash Turnover Rate</th>\n",
              "      <th>Cash Flow to Sales</th>\n",
              "      <th>Fixed Assets to Assets</th>\n",
              "      <th>Current Liability to Liability</th>\n",
              "      <th>Current Liability to Equity</th>\n",
              "      <th>Equity to Long-term Liability</th>\n",
              "      <th>Cash Flow to Total Assets</th>\n",
              "      <th>Cash Flow to Liability</th>\n",
              "      <th>CFO to Assets</th>\n",
              "      <th>Cash Flow to Equity</th>\n",
              "      <th>Current Liability to Current Assets</th>\n",
              "      <th>Liability-Assets Flag</th>\n",
              "      <th>Net Income to Total Assets</th>\n",
              "      <th>Total assets to GNP price</th>\n",
              "      <th>No-credit Interval</th>\n",
              "      <th>Gross Profit to Sales</th>\n",
              "      <th>Net Income to Stockholder's Equity</th>\n",
              "      <th>Liability to Equity</th>\n",
              "      <th>Degree of Financial Leverage (DFL)</th>\n",
              "      <th>Interest Coverage Ratio (Interest expense to EBIT)</th>\n",
              "      <th>Net Income Flag</th>\n",
              "      <th>Equity to Liability</th>\n",
              "    </tr>\n",
              "  </thead>\n",
              "  <tbody>\n",
              "    <tr>\n",
              "      <th>count</th>\n",
              "      <td>6819.000000</td>\n",
              "      <td>6819.000000</td>\n",
              "      <td>6819.000000</td>\n",
              "      <td>6819.000000</td>\n",
              "      <td>6819.000000</td>\n",
              "      <td>6819.000000</td>\n",
              "      <td>6819.000000</td>\n",
              "      <td>6819.000000</td>\n",
              "      <td>6819.000000</td>\n",
              "      <td>6819.000000</td>\n",
              "      <td>6819.000000</td>\n",
              "      <td>6.819000e+03</td>\n",
              "      <td>6.819000e+03</td>\n",
              "      <td>6819.000000</td>\n",
              "      <td>6.819000e+03</td>\n",
              "      <td>6819.000000</td>\n",
              "      <td>6819.000000</td>\n",
              "      <td>6819.000000</td>\n",
              "      <td>6819.000000</td>\n",
              "      <td>6819.000000</td>\n",
              "      <td>6819.000000</td>\n",
              "      <td>6.819000e+03</td>\n",
              "      <td>6819.000000</td>\n",
              "      <td>6819.000000</td>\n",
              "      <td>6819.000000</td>\n",
              "      <td>6819.000000</td>\n",
              "      <td>6819.000000</td>\n",
              "      <td>6819.000000</td>\n",
              "      <td>6819.000000</td>\n",
              "      <td>6.819000e+03</td>\n",
              "      <td>6.819000e+03</td>\n",
              "      <td>6819.000000</td>\n",
              "      <td>6819.000000</td>\n",
              "      <td>6.819000e+03</td>\n",
              "      <td>6.819000e+03</td>\n",
              "      <td>6819.000000</td>\n",
              "      <td>6.819000e+03</td>\n",
              "      <td>6819.000000</td>\n",
              "      <td>6819.000000</td>\n",
              "      <td>6819.000000</td>\n",
              "      <td>6819.000000</td>\n",
              "      <td>6819.000000</td>\n",
              "      <td>6819.000000</td>\n",
              "      <td>6819.000000</td>\n",
              "      <td>6819.000000</td>\n",
              "      <td>6819.000000</td>\n",
              "      <td>...</td>\n",
              "      <td>6819.000000</td>\n",
              "      <td>6.819000e+03</td>\n",
              "      <td>6819.000000</td>\n",
              "      <td>6.819000e+03</td>\n",
              "      <td>6819.000000</td>\n",
              "      <td>6819.000000</td>\n",
              "      <td>6819.000000</td>\n",
              "      <td>6819.000000</td>\n",
              "      <td>6.819000e+03</td>\n",
              "      <td>6.819000e+03</td>\n",
              "      <td>6819.000000</td>\n",
              "      <td>6819.000000</td>\n",
              "      <td>6819.000000</td>\n",
              "      <td>6.819000e+03</td>\n",
              "      <td>6819.000000</td>\n",
              "      <td>6819.000000</td>\n",
              "      <td>6819.000000</td>\n",
              "      <td>6.819000e+03</td>\n",
              "      <td>6819.000000</td>\n",
              "      <td>6819.000000</td>\n",
              "      <td>6819.000000</td>\n",
              "      <td>6.819000e+03</td>\n",
              "      <td>6.819000e+03</td>\n",
              "      <td>6819.000000</td>\n",
              "      <td>6.819000e+03</td>\n",
              "      <td>6819.000000</td>\n",
              "      <td>6.819000e+03</td>\n",
              "      <td>6819.000000</td>\n",
              "      <td>6819.000000</td>\n",
              "      <td>6819.000000</td>\n",
              "      <td>6819.000000</td>\n",
              "      <td>6819.000000</td>\n",
              "      <td>6819.000000</td>\n",
              "      <td>6819.000000</td>\n",
              "      <td>6819.000000</td>\n",
              "      <td>6819.000000</td>\n",
              "      <td>6819.000000</td>\n",
              "      <td>6.819000e+03</td>\n",
              "      <td>6819.000000</td>\n",
              "      <td>6819.000000</td>\n",
              "      <td>6819.000000</td>\n",
              "      <td>6819.000000</td>\n",
              "      <td>6819.000000</td>\n",
              "      <td>6819.000000</td>\n",
              "      <td>6819.0</td>\n",
              "      <td>6819.000000</td>\n",
              "    </tr>\n",
              "    <tr>\n",
              "      <th>mean</th>\n",
              "      <td>0.032263</td>\n",
              "      <td>0.505180</td>\n",
              "      <td>0.558625</td>\n",
              "      <td>0.553589</td>\n",
              "      <td>0.607948</td>\n",
              "      <td>0.607929</td>\n",
              "      <td>0.998755</td>\n",
              "      <td>0.797190</td>\n",
              "      <td>0.809084</td>\n",
              "      <td>0.303623</td>\n",
              "      <td>0.781381</td>\n",
              "      <td>1.995347e+09</td>\n",
              "      <td>1.950427e+09</td>\n",
              "      <td>0.467431</td>\n",
              "      <td>1.644801e+07</td>\n",
              "      <td>0.115001</td>\n",
              "      <td>0.190661</td>\n",
              "      <td>0.190633</td>\n",
              "      <td>0.190672</td>\n",
              "      <td>0.228813</td>\n",
              "      <td>0.323482</td>\n",
              "      <td>1.328641e+06</td>\n",
              "      <td>0.109091</td>\n",
              "      <td>0.184361</td>\n",
              "      <td>0.022408</td>\n",
              "      <td>0.847980</td>\n",
              "      <td>0.689146</td>\n",
              "      <td>0.689150</td>\n",
              "      <td>0.217639</td>\n",
              "      <td>5.508097e+09</td>\n",
              "      <td>1.566212e+06</td>\n",
              "      <td>0.264248</td>\n",
              "      <td>0.379677</td>\n",
              "      <td>4.032850e+05</td>\n",
              "      <td>8.376595e+06</td>\n",
              "      <td>0.630991</td>\n",
              "      <td>4.416337e+06</td>\n",
              "      <td>0.113177</td>\n",
              "      <td>0.886823</td>\n",
              "      <td>0.008783</td>\n",
              "      <td>0.374654</td>\n",
              "      <td>0.005968</td>\n",
              "      <td>0.108977</td>\n",
              "      <td>0.182715</td>\n",
              "      <td>0.402459</td>\n",
              "      <td>0.141606</td>\n",
              "      <td>...</td>\n",
              "      <td>0.038595</td>\n",
              "      <td>2.325854e+06</td>\n",
              "      <td>0.400671</td>\n",
              "      <td>1.125579e+07</td>\n",
              "      <td>0.814125</td>\n",
              "      <td>0.400132</td>\n",
              "      <td>0.522273</td>\n",
              "      <td>0.124095</td>\n",
              "      <td>3.592902e+06</td>\n",
              "      <td>3.715999e+07</td>\n",
              "      <td>0.090673</td>\n",
              "      <td>0.353828</td>\n",
              "      <td>0.277395</td>\n",
              "      <td>5.580680e+07</td>\n",
              "      <td>0.761599</td>\n",
              "      <td>0.735817</td>\n",
              "      <td>0.331410</td>\n",
              "      <td>5.416004e+07</td>\n",
              "      <td>0.934733</td>\n",
              "      <td>0.002549</td>\n",
              "      <td>0.029184</td>\n",
              "      <td>1.195856e+09</td>\n",
              "      <td>2.163735e+09</td>\n",
              "      <td>0.594006</td>\n",
              "      <td>2.471977e+09</td>\n",
              "      <td>0.671531</td>\n",
              "      <td>1.220121e+06</td>\n",
              "      <td>0.761599</td>\n",
              "      <td>0.331410</td>\n",
              "      <td>0.115645</td>\n",
              "      <td>0.649731</td>\n",
              "      <td>0.461849</td>\n",
              "      <td>0.593415</td>\n",
              "      <td>0.315582</td>\n",
              "      <td>0.031506</td>\n",
              "      <td>0.001173</td>\n",
              "      <td>0.807760</td>\n",
              "      <td>1.862942e+07</td>\n",
              "      <td>0.623915</td>\n",
              "      <td>0.607946</td>\n",
              "      <td>0.840402</td>\n",
              "      <td>0.280365</td>\n",
              "      <td>0.027541</td>\n",
              "      <td>0.565358</td>\n",
              "      <td>1.0</td>\n",
              "      <td>0.047578</td>\n",
              "    </tr>\n",
              "    <tr>\n",
              "      <th>std</th>\n",
              "      <td>0.176710</td>\n",
              "      <td>0.060686</td>\n",
              "      <td>0.065620</td>\n",
              "      <td>0.061595</td>\n",
              "      <td>0.016934</td>\n",
              "      <td>0.016916</td>\n",
              "      <td>0.013010</td>\n",
              "      <td>0.012869</td>\n",
              "      <td>0.013601</td>\n",
              "      <td>0.011163</td>\n",
              "      <td>0.012679</td>\n",
              "      <td>3.237684e+09</td>\n",
              "      <td>2.598292e+09</td>\n",
              "      <td>0.017036</td>\n",
              "      <td>1.082750e+08</td>\n",
              "      <td>0.138667</td>\n",
              "      <td>0.033390</td>\n",
              "      <td>0.033474</td>\n",
              "      <td>0.033480</td>\n",
              "      <td>0.033263</td>\n",
              "      <td>0.017611</td>\n",
              "      <td>5.170709e+07</td>\n",
              "      <td>0.027942</td>\n",
              "      <td>0.033180</td>\n",
              "      <td>0.012079</td>\n",
              "      <td>0.010752</td>\n",
              "      <td>0.013853</td>\n",
              "      <td>0.013910</td>\n",
              "      <td>0.010063</td>\n",
              "      <td>2.897718e+09</td>\n",
              "      <td>1.141594e+08</td>\n",
              "      <td>0.009634</td>\n",
              "      <td>0.020737</td>\n",
              "      <td>3.330216e+07</td>\n",
              "      <td>2.446847e+08</td>\n",
              "      <td>0.011238</td>\n",
              "      <td>1.684069e+08</td>\n",
              "      <td>0.053920</td>\n",
              "      <td>0.053920</td>\n",
              "      <td>0.028153</td>\n",
              "      <td>0.016286</td>\n",
              "      <td>0.012188</td>\n",
              "      <td>0.027782</td>\n",
              "      <td>0.030785</td>\n",
              "      <td>0.013324</td>\n",
              "      <td>0.101145</td>\n",
              "      <td>...</td>\n",
              "      <td>0.036680</td>\n",
              "      <td>1.366327e+08</td>\n",
              "      <td>0.032720</td>\n",
              "      <td>2.945063e+08</td>\n",
              "      <td>0.059054</td>\n",
              "      <td>0.201998</td>\n",
              "      <td>0.218112</td>\n",
              "      <td>0.139251</td>\n",
              "      <td>1.716209e+08</td>\n",
              "      <td>5.103509e+08</td>\n",
              "      <td>0.050290</td>\n",
              "      <td>0.035147</td>\n",
              "      <td>0.010469</td>\n",
              "      <td>5.820516e+08</td>\n",
              "      <td>0.206677</td>\n",
              "      <td>0.011678</td>\n",
              "      <td>0.013488</td>\n",
              "      <td>5.702706e+08</td>\n",
              "      <td>0.025564</td>\n",
              "      <td>0.012093</td>\n",
              "      <td>0.027149</td>\n",
              "      <td>2.821161e+09</td>\n",
              "      <td>3.374944e+09</td>\n",
              "      <td>0.008959</td>\n",
              "      <td>2.938623e+09</td>\n",
              "      <td>0.009341</td>\n",
              "      <td>1.007542e+08</td>\n",
              "      <td>0.206677</td>\n",
              "      <td>0.013488</td>\n",
              "      <td>0.019529</td>\n",
              "      <td>0.047372</td>\n",
              "      <td>0.029943</td>\n",
              "      <td>0.058561</td>\n",
              "      <td>0.012961</td>\n",
              "      <td>0.030845</td>\n",
              "      <td>0.034234</td>\n",
              "      <td>0.040332</td>\n",
              "      <td>3.764501e+08</td>\n",
              "      <td>0.012290</td>\n",
              "      <td>0.016934</td>\n",
              "      <td>0.014523</td>\n",
              "      <td>0.014463</td>\n",
              "      <td>0.015668</td>\n",
              "      <td>0.013214</td>\n",
              "      <td>0.0</td>\n",
              "      <td>0.050014</td>\n",
              "    </tr>\n",
              "    <tr>\n",
              "      <th>min</th>\n",
              "      <td>0.000000</td>\n",
              "      <td>0.000000</td>\n",
              "      <td>0.000000</td>\n",
              "      <td>0.000000</td>\n",
              "      <td>0.000000</td>\n",
              "      <td>0.000000</td>\n",
              "      <td>0.000000</td>\n",
              "      <td>0.000000</td>\n",
              "      <td>0.000000</td>\n",
              "      <td>0.000000</td>\n",
              "      <td>0.000000</td>\n",
              "      <td>0.000000e+00</td>\n",
              "      <td>0.000000e+00</td>\n",
              "      <td>0.000000</td>\n",
              "      <td>0.000000e+00</td>\n",
              "      <td>0.000000</td>\n",
              "      <td>0.000000</td>\n",
              "      <td>0.000000</td>\n",
              "      <td>0.000000</td>\n",
              "      <td>0.000000</td>\n",
              "      <td>0.000000</td>\n",
              "      <td>0.000000e+00</td>\n",
              "      <td>0.000000</td>\n",
              "      <td>0.000000</td>\n",
              "      <td>0.000000</td>\n",
              "      <td>0.000000</td>\n",
              "      <td>0.000000</td>\n",
              "      <td>0.000000</td>\n",
              "      <td>0.000000</td>\n",
              "      <td>0.000000e+00</td>\n",
              "      <td>0.000000e+00</td>\n",
              "      <td>0.000000</td>\n",
              "      <td>0.000000</td>\n",
              "      <td>0.000000e+00</td>\n",
              "      <td>0.000000e+00</td>\n",
              "      <td>0.000000</td>\n",
              "      <td>0.000000e+00</td>\n",
              "      <td>0.000000</td>\n",
              "      <td>0.000000</td>\n",
              "      <td>0.000000</td>\n",
              "      <td>0.000000</td>\n",
              "      <td>0.000000</td>\n",
              "      <td>0.000000</td>\n",
              "      <td>0.000000</td>\n",
              "      <td>0.000000</td>\n",
              "      <td>0.000000</td>\n",
              "      <td>...</td>\n",
              "      <td>0.000000</td>\n",
              "      <td>0.000000e+00</td>\n",
              "      <td>0.000000</td>\n",
              "      <td>0.000000e+00</td>\n",
              "      <td>0.000000</td>\n",
              "      <td>0.000000</td>\n",
              "      <td>0.000000</td>\n",
              "      <td>0.000000</td>\n",
              "      <td>0.000000e+00</td>\n",
              "      <td>0.000000e+00</td>\n",
              "      <td>0.000000</td>\n",
              "      <td>0.000000</td>\n",
              "      <td>0.000000</td>\n",
              "      <td>0.000000e+00</td>\n",
              "      <td>0.000000</td>\n",
              "      <td>0.000000</td>\n",
              "      <td>0.000000</td>\n",
              "      <td>0.000000e+00</td>\n",
              "      <td>0.000000</td>\n",
              "      <td>0.000000</td>\n",
              "      <td>0.000000</td>\n",
              "      <td>0.000000e+00</td>\n",
              "      <td>0.000000e+00</td>\n",
              "      <td>0.000000</td>\n",
              "      <td>0.000000e+00</td>\n",
              "      <td>0.000000</td>\n",
              "      <td>0.000000e+00</td>\n",
              "      <td>0.000000</td>\n",
              "      <td>0.000000</td>\n",
              "      <td>0.000000</td>\n",
              "      <td>0.000000</td>\n",
              "      <td>0.000000</td>\n",
              "      <td>0.000000</td>\n",
              "      <td>0.000000</td>\n",
              "      <td>0.000000</td>\n",
              "      <td>0.000000</td>\n",
              "      <td>0.000000</td>\n",
              "      <td>0.000000e+00</td>\n",
              "      <td>0.000000</td>\n",
              "      <td>0.000000</td>\n",
              "      <td>0.000000</td>\n",
              "      <td>0.000000</td>\n",
              "      <td>0.000000</td>\n",
              "      <td>0.000000</td>\n",
              "      <td>1.0</td>\n",
              "      <td>0.000000</td>\n",
              "    </tr>\n",
              "    <tr>\n",
              "      <th>25%</th>\n",
              "      <td>0.000000</td>\n",
              "      <td>0.476527</td>\n",
              "      <td>0.535543</td>\n",
              "      <td>0.527277</td>\n",
              "      <td>0.600445</td>\n",
              "      <td>0.600434</td>\n",
              "      <td>0.998969</td>\n",
              "      <td>0.797386</td>\n",
              "      <td>0.809312</td>\n",
              "      <td>0.303466</td>\n",
              "      <td>0.781567</td>\n",
              "      <td>1.566874e-04</td>\n",
              "      <td>1.281880e-04</td>\n",
              "      <td>0.461558</td>\n",
              "      <td>2.030203e-04</td>\n",
              "      <td>0.000000</td>\n",
              "      <td>0.173613</td>\n",
              "      <td>0.173613</td>\n",
              "      <td>0.173676</td>\n",
              "      <td>0.214711</td>\n",
              "      <td>0.317748</td>\n",
              "      <td>1.563138e-02</td>\n",
              "      <td>0.096083</td>\n",
              "      <td>0.170370</td>\n",
              "      <td>0.022065</td>\n",
              "      <td>0.847984</td>\n",
              "      <td>0.689270</td>\n",
              "      <td>0.689270</td>\n",
              "      <td>0.217580</td>\n",
              "      <td>4.860000e+09</td>\n",
              "      <td>4.409689e-04</td>\n",
              "      <td>0.263759</td>\n",
              "      <td>0.374749</td>\n",
              "      <td>7.555047e-03</td>\n",
              "      <td>4.725903e-03</td>\n",
              "      <td>0.630612</td>\n",
              "      <td>3.007049e-03</td>\n",
              "      <td>0.072891</td>\n",
              "      <td>0.851196</td>\n",
              "      <td>0.005244</td>\n",
              "      <td>0.370168</td>\n",
              "      <td>0.005366</td>\n",
              "      <td>0.096105</td>\n",
              "      <td>0.169376</td>\n",
              "      <td>0.397403</td>\n",
              "      <td>0.076462</td>\n",
              "      <td>...</td>\n",
              "      <td>0.021774</td>\n",
              "      <td>1.043285e-02</td>\n",
              "      <td>0.392438</td>\n",
              "      <td>4.120529e-03</td>\n",
              "      <td>0.774309</td>\n",
              "      <td>0.241973</td>\n",
              "      <td>0.352845</td>\n",
              "      <td>0.033543</td>\n",
              "      <td>5.239776e-03</td>\n",
              "      <td>1.973008e-03</td>\n",
              "      <td>0.053301</td>\n",
              "      <td>0.341023</td>\n",
              "      <td>0.277034</td>\n",
              "      <td>3.163148e-03</td>\n",
              "      <td>0.626981</td>\n",
              "      <td>0.733612</td>\n",
              "      <td>0.328096</td>\n",
              "      <td>0.000000e+00</td>\n",
              "      <td>0.931097</td>\n",
              "      <td>0.002236</td>\n",
              "      <td>0.014567</td>\n",
              "      <td>1.456236e-04</td>\n",
              "      <td>1.417149e-04</td>\n",
              "      <td>0.593934</td>\n",
              "      <td>2.735337e-04</td>\n",
              "      <td>0.671565</td>\n",
              "      <td>8.536037e-02</td>\n",
              "      <td>0.626981</td>\n",
              "      <td>0.328096</td>\n",
              "      <td>0.110933</td>\n",
              "      <td>0.633265</td>\n",
              "      <td>0.457116</td>\n",
              "      <td>0.565987</td>\n",
              "      <td>0.312995</td>\n",
              "      <td>0.018034</td>\n",
              "      <td>0.000000</td>\n",
              "      <td>0.796750</td>\n",
              "      <td>9.036205e-04</td>\n",
              "      <td>0.623636</td>\n",
              "      <td>0.600443</td>\n",
              "      <td>0.840115</td>\n",
              "      <td>0.276944</td>\n",
              "      <td>0.026791</td>\n",
              "      <td>0.565158</td>\n",
              "      <td>1.0</td>\n",
              "      <td>0.024477</td>\n",
              "    </tr>\n",
              "    <tr>\n",
              "      <th>50%</th>\n",
              "      <td>0.000000</td>\n",
              "      <td>0.502706</td>\n",
              "      <td>0.559802</td>\n",
              "      <td>0.552278</td>\n",
              "      <td>0.605997</td>\n",
              "      <td>0.605976</td>\n",
              "      <td>0.999022</td>\n",
              "      <td>0.797464</td>\n",
              "      <td>0.809375</td>\n",
              "      <td>0.303525</td>\n",
              "      <td>0.781635</td>\n",
              "      <td>2.777589e-04</td>\n",
              "      <td>5.090000e+08</td>\n",
              "      <td>0.465080</td>\n",
              "      <td>3.210321e-04</td>\n",
              "      <td>0.073489</td>\n",
              "      <td>0.184400</td>\n",
              "      <td>0.184400</td>\n",
              "      <td>0.184400</td>\n",
              "      <td>0.224544</td>\n",
              "      <td>0.322487</td>\n",
              "      <td>2.737571e-02</td>\n",
              "      <td>0.104226</td>\n",
              "      <td>0.179709</td>\n",
              "      <td>0.022102</td>\n",
              "      <td>0.848044</td>\n",
              "      <td>0.689439</td>\n",
              "      <td>0.689439</td>\n",
              "      <td>0.217598</td>\n",
              "      <td>6.400000e+09</td>\n",
              "      <td>4.619555e-04</td>\n",
              "      <td>0.264050</td>\n",
              "      <td>0.380425</td>\n",
              "      <td>1.058717e-02</td>\n",
              "      <td>7.412472e-03</td>\n",
              "      <td>0.630698</td>\n",
              "      <td>5.546284e-03</td>\n",
              "      <td>0.111407</td>\n",
              "      <td>0.888593</td>\n",
              "      <td>0.005665</td>\n",
              "      <td>0.372624</td>\n",
              "      <td>0.005366</td>\n",
              "      <td>0.104133</td>\n",
              "      <td>0.178456</td>\n",
              "      <td>0.400131</td>\n",
              "      <td>0.118441</td>\n",
              "      <td>...</td>\n",
              "      <td>0.029516</td>\n",
              "      <td>1.861551e-02</td>\n",
              "      <td>0.395898</td>\n",
              "      <td>7.844373e-03</td>\n",
              "      <td>0.810275</td>\n",
              "      <td>0.386451</td>\n",
              "      <td>0.514830</td>\n",
              "      <td>0.074887</td>\n",
              "      <td>7.908898e-03</td>\n",
              "      <td>4.903886e-03</td>\n",
              "      <td>0.082705</td>\n",
              "      <td>0.348597</td>\n",
              "      <td>0.277178</td>\n",
              "      <td>6.497335e-03</td>\n",
              "      <td>0.806881</td>\n",
              "      <td>0.736013</td>\n",
              "      <td>0.329685</td>\n",
              "      <td>1.974619e-03</td>\n",
              "      <td>0.937672</td>\n",
              "      <td>0.002336</td>\n",
              "      <td>0.022674</td>\n",
              "      <td>1.987816e-04</td>\n",
              "      <td>2.247728e-04</td>\n",
              "      <td>0.593963</td>\n",
              "      <td>1.080000e+09</td>\n",
              "      <td>0.671574</td>\n",
              "      <td>1.968810e-01</td>\n",
              "      <td>0.806881</td>\n",
              "      <td>0.329685</td>\n",
              "      <td>0.112340</td>\n",
              "      <td>0.645366</td>\n",
              "      <td>0.459750</td>\n",
              "      <td>0.593266</td>\n",
              "      <td>0.314953</td>\n",
              "      <td>0.027597</td>\n",
              "      <td>0.000000</td>\n",
              "      <td>0.810619</td>\n",
              "      <td>2.085213e-03</td>\n",
              "      <td>0.623879</td>\n",
              "      <td>0.605998</td>\n",
              "      <td>0.841179</td>\n",
              "      <td>0.278778</td>\n",
              "      <td>0.026808</td>\n",
              "      <td>0.565252</td>\n",
              "      <td>1.0</td>\n",
              "      <td>0.033798</td>\n",
              "    </tr>\n",
              "    <tr>\n",
              "      <th>75%</th>\n",
              "      <td>0.000000</td>\n",
              "      <td>0.535563</td>\n",
              "      <td>0.589157</td>\n",
              "      <td>0.584105</td>\n",
              "      <td>0.613914</td>\n",
              "      <td>0.613842</td>\n",
              "      <td>0.999095</td>\n",
              "      <td>0.797579</td>\n",
              "      <td>0.809469</td>\n",
              "      <td>0.303585</td>\n",
              "      <td>0.781735</td>\n",
              "      <td>4.145000e+09</td>\n",
              "      <td>3.450000e+09</td>\n",
              "      <td>0.471004</td>\n",
              "      <td>5.325533e-04</td>\n",
              "      <td>0.205841</td>\n",
              "      <td>0.199570</td>\n",
              "      <td>0.199570</td>\n",
              "      <td>0.199612</td>\n",
              "      <td>0.238820</td>\n",
              "      <td>0.328623</td>\n",
              "      <td>4.635722e-02</td>\n",
              "      <td>0.116155</td>\n",
              "      <td>0.193493</td>\n",
              "      <td>0.022153</td>\n",
              "      <td>0.848123</td>\n",
              "      <td>0.689647</td>\n",
              "      <td>0.689647</td>\n",
              "      <td>0.217622</td>\n",
              "      <td>7.390000e+09</td>\n",
              "      <td>4.993621e-04</td>\n",
              "      <td>0.264388</td>\n",
              "      <td>0.386731</td>\n",
              "      <td>1.626953e-02</td>\n",
              "      <td>1.224911e-02</td>\n",
              "      <td>0.631125</td>\n",
              "      <td>9.273293e-03</td>\n",
              "      <td>0.148804</td>\n",
              "      <td>0.927109</td>\n",
              "      <td>0.006847</td>\n",
              "      <td>0.376271</td>\n",
              "      <td>0.005764</td>\n",
              "      <td>0.115927</td>\n",
              "      <td>0.191607</td>\n",
              "      <td>0.404551</td>\n",
              "      <td>0.176912</td>\n",
              "      <td>...</td>\n",
              "      <td>0.042903</td>\n",
              "      <td>3.585477e-02</td>\n",
              "      <td>0.401851</td>\n",
              "      <td>1.502031e-02</td>\n",
              "      <td>0.850383</td>\n",
              "      <td>0.540594</td>\n",
              "      <td>0.689051</td>\n",
              "      <td>0.161073</td>\n",
              "      <td>1.295091e-02</td>\n",
              "      <td>1.280557e-02</td>\n",
              "      <td>0.119523</td>\n",
              "      <td>0.360915</td>\n",
              "      <td>0.277429</td>\n",
              "      <td>1.114677e-02</td>\n",
              "      <td>0.942027</td>\n",
              "      <td>0.738560</td>\n",
              "      <td>0.332322</td>\n",
              "      <td>9.005946e-03</td>\n",
              "      <td>0.944811</td>\n",
              "      <td>0.002492</td>\n",
              "      <td>0.035930</td>\n",
              "      <td>4.525945e-04</td>\n",
              "      <td>4.900000e+09</td>\n",
              "      <td>0.594002</td>\n",
              "      <td>4.510000e+09</td>\n",
              "      <td>0.671587</td>\n",
              "      <td>3.722000e-01</td>\n",
              "      <td>0.942027</td>\n",
              "      <td>0.332322</td>\n",
              "      <td>0.117106</td>\n",
              "      <td>0.663062</td>\n",
              "      <td>0.464236</td>\n",
              "      <td>0.624769</td>\n",
              "      <td>0.317707</td>\n",
              "      <td>0.038375</td>\n",
              "      <td>0.000000</td>\n",
              "      <td>0.826455</td>\n",
              "      <td>5.269777e-03</td>\n",
              "      <td>0.624168</td>\n",
              "      <td>0.613913</td>\n",
              "      <td>0.842357</td>\n",
              "      <td>0.281449</td>\n",
              "      <td>0.026913</td>\n",
              "      <td>0.565725</td>\n",
              "      <td>1.0</td>\n",
              "      <td>0.052838</td>\n",
              "    </tr>\n",
              "    <tr>\n",
              "      <th>max</th>\n",
              "      <td>1.000000</td>\n",
              "      <td>1.000000</td>\n",
              "      <td>1.000000</td>\n",
              "      <td>1.000000</td>\n",
              "      <td>1.000000</td>\n",
              "      <td>1.000000</td>\n",
              "      <td>1.000000</td>\n",
              "      <td>1.000000</td>\n",
              "      <td>1.000000</td>\n",
              "      <td>1.000000</td>\n",
              "      <td>1.000000</td>\n",
              "      <td>9.990000e+09</td>\n",
              "      <td>9.980000e+09</td>\n",
              "      <td>1.000000</td>\n",
              "      <td>9.900000e+08</td>\n",
              "      <td>1.000000</td>\n",
              "      <td>1.000000</td>\n",
              "      <td>1.000000</td>\n",
              "      <td>1.000000</td>\n",
              "      <td>1.000000</td>\n",
              "      <td>1.000000</td>\n",
              "      <td>3.020000e+09</td>\n",
              "      <td>1.000000</td>\n",
              "      <td>1.000000</td>\n",
              "      <td>1.000000</td>\n",
              "      <td>1.000000</td>\n",
              "      <td>1.000000</td>\n",
              "      <td>1.000000</td>\n",
              "      <td>1.000000</td>\n",
              "      <td>9.990000e+09</td>\n",
              "      <td>9.330000e+09</td>\n",
              "      <td>1.000000</td>\n",
              "      <td>1.000000</td>\n",
              "      <td>2.750000e+09</td>\n",
              "      <td>9.230000e+09</td>\n",
              "      <td>1.000000</td>\n",
              "      <td>9.940000e+09</td>\n",
              "      <td>1.000000</td>\n",
              "      <td>1.000000</td>\n",
              "      <td>1.000000</td>\n",
              "      <td>1.000000</td>\n",
              "      <td>1.000000</td>\n",
              "      <td>1.000000</td>\n",
              "      <td>1.000000</td>\n",
              "      <td>1.000000</td>\n",
              "      <td>1.000000</td>\n",
              "      <td>...</td>\n",
              "      <td>1.000000</td>\n",
              "      <td>8.810000e+09</td>\n",
              "      <td>1.000000</td>\n",
              "      <td>9.570000e+09</td>\n",
              "      <td>1.000000</td>\n",
              "      <td>1.000000</td>\n",
              "      <td>1.000000</td>\n",
              "      <td>1.000000</td>\n",
              "      <td>8.820000e+09</td>\n",
              "      <td>9.650000e+09</td>\n",
              "      <td>1.000000</td>\n",
              "      <td>1.000000</td>\n",
              "      <td>1.000000</td>\n",
              "      <td>9.910000e+09</td>\n",
              "      <td>1.000000</td>\n",
              "      <td>1.000000</td>\n",
              "      <td>1.000000</td>\n",
              "      <td>9.540000e+09</td>\n",
              "      <td>1.000000</td>\n",
              "      <td>1.000000</td>\n",
              "      <td>1.000000</td>\n",
              "      <td>1.000000e+10</td>\n",
              "      <td>1.000000e+10</td>\n",
              "      <td>1.000000</td>\n",
              "      <td>1.000000e+10</td>\n",
              "      <td>1.000000</td>\n",
              "      <td>8.320000e+09</td>\n",
              "      <td>1.000000</td>\n",
              "      <td>1.000000</td>\n",
              "      <td>1.000000</td>\n",
              "      <td>1.000000</td>\n",
              "      <td>1.000000</td>\n",
              "      <td>1.000000</td>\n",
              "      <td>1.000000</td>\n",
              "      <td>1.000000</td>\n",
              "      <td>1.000000</td>\n",
              "      <td>1.000000</td>\n",
              "      <td>9.820000e+09</td>\n",
              "      <td>1.000000</td>\n",
              "      <td>1.000000</td>\n",
              "      <td>1.000000</td>\n",
              "      <td>1.000000</td>\n",
              "      <td>1.000000</td>\n",
              "      <td>1.000000</td>\n",
              "      <td>1.0</td>\n",
              "      <td>1.000000</td>\n",
              "    </tr>\n",
              "  </tbody>\n",
              "</table>\n",
              "<p>8 rows × 96 columns</p>\n",
              "</div>"
            ],
            "text/plain": [
              "         Bankrupt?   ROA(C) before interest and depreciation before interest  \\\n",
              "count  6819.000000                                        6819.000000          \n",
              "mean      0.032263                                           0.505180          \n",
              "std       0.176710                                           0.060686          \n",
              "min       0.000000                                           0.000000          \n",
              "25%       0.000000                                           0.476527          \n",
              "50%       0.000000                                           0.502706          \n",
              "75%       0.000000                                           0.535563          \n",
              "max       1.000000                                           1.000000          \n",
              "\n",
              "        ROA(A) before interest and % after tax  \\\n",
              "count                              6819.000000   \n",
              "mean                                  0.558625   \n",
              "std                                   0.065620   \n",
              "min                                   0.000000   \n",
              "25%                                   0.535543   \n",
              "50%                                   0.559802   \n",
              "75%                                   0.589157   \n",
              "max                                   1.000000   \n",
              "\n",
              "        ROA(B) before interest and depreciation after tax  \\\n",
              "count                                        6819.000000    \n",
              "mean                                            0.553589    \n",
              "std                                             0.061595    \n",
              "min                                             0.000000    \n",
              "25%                                             0.527277    \n",
              "50%                                             0.552278    \n",
              "75%                                             0.584105    \n",
              "max                                             1.000000    \n",
              "\n",
              "        Operating Gross Margin   Realized Sales Gross Margin  \\\n",
              "count              6819.000000                   6819.000000   \n",
              "mean                  0.607948                      0.607929   \n",
              "std                   0.016934                      0.016916   \n",
              "min                   0.000000                      0.000000   \n",
              "25%                   0.600445                      0.600434   \n",
              "50%                   0.605997                      0.605976   \n",
              "75%                   0.613914                      0.613842   \n",
              "max                   1.000000                      1.000000   \n",
              "\n",
              "        Operating Profit Rate   Pre-tax net Interest Rate  \\\n",
              "count             6819.000000                 6819.000000   \n",
              "mean                 0.998755                    0.797190   \n",
              "std                  0.013010                    0.012869   \n",
              "min                  0.000000                    0.000000   \n",
              "25%                  0.998969                    0.797386   \n",
              "50%                  0.999022                    0.797464   \n",
              "75%                  0.999095                    0.797579   \n",
              "max                  1.000000                    1.000000   \n",
              "\n",
              "        After-tax net Interest Rate  \\\n",
              "count                   6819.000000   \n",
              "mean                       0.809084   \n",
              "std                        0.013601   \n",
              "min                        0.000000   \n",
              "25%                        0.809312   \n",
              "50%                        0.809375   \n",
              "75%                        0.809469   \n",
              "max                        1.000000   \n",
              "\n",
              "        Non-industry income and expenditure/revenue  \\\n",
              "count                                   6819.000000   \n",
              "mean                                       0.303623   \n",
              "std                                        0.011163   \n",
              "min                                        0.000000   \n",
              "25%                                        0.303466   \n",
              "50%                                        0.303525   \n",
              "75%                                        0.303585   \n",
              "max                                        1.000000   \n",
              "\n",
              "        Continuous interest rate (after tax)   Operating Expense Rate  \\\n",
              "count                            6819.000000             6.819000e+03   \n",
              "mean                                0.781381             1.995347e+09   \n",
              "std                                 0.012679             3.237684e+09   \n",
              "min                                 0.000000             0.000000e+00   \n",
              "25%                                 0.781567             1.566874e-04   \n",
              "50%                                 0.781635             2.777589e-04   \n",
              "75%                                 0.781735             4.145000e+09   \n",
              "max                                 1.000000             9.990000e+09   \n",
              "\n",
              "        Research and development expense rate   Cash flow rate  \\\n",
              "count                            6.819000e+03      6819.000000   \n",
              "mean                             1.950427e+09         0.467431   \n",
              "std                              2.598292e+09         0.017036   \n",
              "min                              0.000000e+00         0.000000   \n",
              "25%                              1.281880e-04         0.461558   \n",
              "50%                              5.090000e+08         0.465080   \n",
              "75%                              3.450000e+09         0.471004   \n",
              "max                              9.980000e+09         1.000000   \n",
              "\n",
              "        Interest-bearing debt interest rate   Tax rate (A)  \\\n",
              "count                          6.819000e+03    6819.000000   \n",
              "mean                           1.644801e+07       0.115001   \n",
              "std                            1.082750e+08       0.138667   \n",
              "min                            0.000000e+00       0.000000   \n",
              "25%                            2.030203e-04       0.000000   \n",
              "50%                            3.210321e-04       0.073489   \n",
              "75%                            5.325533e-04       0.205841   \n",
              "max                            9.900000e+08       1.000000   \n",
              "\n",
              "        Net Value Per Share (B)   Net Value Per Share (A)  \\\n",
              "count               6819.000000               6819.000000   \n",
              "mean                   0.190661                  0.190633   \n",
              "std                    0.033390                  0.033474   \n",
              "min                    0.000000                  0.000000   \n",
              "25%                    0.173613                  0.173613   \n",
              "50%                    0.184400                  0.184400   \n",
              "75%                    0.199570                  0.199570   \n",
              "max                    1.000000                  1.000000   \n",
              "\n",
              "        Net Value Per Share (C)   Persistent EPS in the Last Four Seasons  \\\n",
              "count               6819.000000                               6819.000000   \n",
              "mean                   0.190672                                  0.228813   \n",
              "std                    0.033480                                  0.033263   \n",
              "min                    0.000000                                  0.000000   \n",
              "25%                    0.173676                                  0.214711   \n",
              "50%                    0.184400                                  0.224544   \n",
              "75%                    0.199612                                  0.238820   \n",
              "max                    1.000000                                  1.000000   \n",
              "\n",
              "        Cash Flow Per Share   Revenue Per Share (Yuan ¥)  \\\n",
              "count           6819.000000                 6.819000e+03   \n",
              "mean               0.323482                 1.328641e+06   \n",
              "std                0.017611                 5.170709e+07   \n",
              "min                0.000000                 0.000000e+00   \n",
              "25%                0.317748                 1.563138e-02   \n",
              "50%                0.322487                 2.737571e-02   \n",
              "75%                0.328623                 4.635722e-02   \n",
              "max                1.000000                 3.020000e+09   \n",
              "\n",
              "        Operating Profit Per Share (Yuan ¥)  \\\n",
              "count                           6819.000000   \n",
              "mean                               0.109091   \n",
              "std                                0.027942   \n",
              "min                                0.000000   \n",
              "25%                                0.096083   \n",
              "50%                                0.104226   \n",
              "75%                                0.116155   \n",
              "max                                1.000000   \n",
              "\n",
              "        Per Share Net profit before tax (Yuan ¥)  \\\n",
              "count                                6819.000000   \n",
              "mean                                    0.184361   \n",
              "std                                     0.033180   \n",
              "min                                     0.000000   \n",
              "25%                                     0.170370   \n",
              "50%                                     0.179709   \n",
              "75%                                     0.193493   \n",
              "max                                     1.000000   \n",
              "\n",
              "        Realized Sales Gross Profit Growth Rate  \\\n",
              "count                               6819.000000   \n",
              "mean                                   0.022408   \n",
              "std                                    0.012079   \n",
              "min                                    0.000000   \n",
              "25%                                    0.022065   \n",
              "50%                                    0.022102   \n",
              "75%                                    0.022153   \n",
              "max                                    1.000000   \n",
              "\n",
              "        Operating Profit Growth Rate   After-tax Net Profit Growth Rate  \\\n",
              "count                    6819.000000                        6819.000000   \n",
              "mean                        0.847980                           0.689146   \n",
              "std                         0.010752                           0.013853   \n",
              "min                         0.000000                           0.000000   \n",
              "25%                         0.847984                           0.689270   \n",
              "50%                         0.848044                           0.689439   \n",
              "75%                         0.848123                           0.689647   \n",
              "max                         1.000000                           1.000000   \n",
              "\n",
              "        Regular Net Profit Growth Rate   Continuous Net Profit Growth Rate  \\\n",
              "count                      6819.000000                         6819.000000   \n",
              "mean                          0.689150                            0.217639   \n",
              "std                           0.013910                            0.010063   \n",
              "min                           0.000000                            0.000000   \n",
              "25%                           0.689270                            0.217580   \n",
              "50%                           0.689439                            0.217598   \n",
              "75%                           0.689647                            0.217622   \n",
              "max                           1.000000                            1.000000   \n",
              "\n",
              "        Total Asset Growth Rate   Net Value Growth Rate  \\\n",
              "count              6.819000e+03            6.819000e+03   \n",
              "mean               5.508097e+09            1.566212e+06   \n",
              "std                2.897718e+09            1.141594e+08   \n",
              "min                0.000000e+00            0.000000e+00   \n",
              "25%                4.860000e+09            4.409689e-04   \n",
              "50%                6.400000e+09            4.619555e-04   \n",
              "75%                7.390000e+09            4.993621e-04   \n",
              "max                9.990000e+09            9.330000e+09   \n",
              "\n",
              "        Total Asset Return Growth Rate Ratio   Cash Reinvestment %  \\\n",
              "count                            6819.000000           6819.000000   \n",
              "mean                                0.264248              0.379677   \n",
              "std                                 0.009634              0.020737   \n",
              "min                                 0.000000              0.000000   \n",
              "25%                                 0.263759              0.374749   \n",
              "50%                                 0.264050              0.380425   \n",
              "75%                                 0.264388              0.386731   \n",
              "max                                 1.000000              1.000000   \n",
              "\n",
              "        Current Ratio   Quick Ratio   Interest Expense Ratio  \\\n",
              "count    6.819000e+03  6.819000e+03              6819.000000   \n",
              "mean     4.032850e+05  8.376595e+06                 0.630991   \n",
              "std      3.330216e+07  2.446847e+08                 0.011238   \n",
              "min      0.000000e+00  0.000000e+00                 0.000000   \n",
              "25%      7.555047e-03  4.725903e-03                 0.630612   \n",
              "50%      1.058717e-02  7.412472e-03                 0.630698   \n",
              "75%      1.626953e-02  1.224911e-02                 0.631125   \n",
              "max      2.750000e+09  9.230000e+09                 1.000000   \n",
              "\n",
              "        Total debt/Total net worth   Debt ratio %   Net worth/Assets  \\\n",
              "count                 6.819000e+03    6819.000000        6819.000000   \n",
              "mean                  4.416337e+06       0.113177           0.886823   \n",
              "std                   1.684069e+08       0.053920           0.053920   \n",
              "min                   0.000000e+00       0.000000           0.000000   \n",
              "25%                   3.007049e-03       0.072891           0.851196   \n",
              "50%                   5.546284e-03       0.111407           0.888593   \n",
              "75%                   9.273293e-03       0.148804           0.927109   \n",
              "max                   9.940000e+09       1.000000           1.000000   \n",
              "\n",
              "        Long-term fund suitability ratio (A)   Borrowing dependency  \\\n",
              "count                            6819.000000            6819.000000   \n",
              "mean                                0.008783               0.374654   \n",
              "std                                 0.028153               0.016286   \n",
              "min                                 0.000000               0.000000   \n",
              "25%                                 0.005244               0.370168   \n",
              "50%                                 0.005665               0.372624   \n",
              "75%                                 0.006847               0.376271   \n",
              "max                                 1.000000               1.000000   \n",
              "\n",
              "        Contingent liabilities/Net worth   Operating profit/Paid-in capital  \\\n",
              "count                        6819.000000                        6819.000000   \n",
              "mean                            0.005968                           0.108977   \n",
              "std                             0.012188                           0.027782   \n",
              "min                             0.000000                           0.000000   \n",
              "25%                             0.005366                           0.096105   \n",
              "50%                             0.005366                           0.104133   \n",
              "75%                             0.005764                           0.115927   \n",
              "max                             1.000000                           1.000000   \n",
              "\n",
              "        Net profit before tax/Paid-in capital  \\\n",
              "count                             6819.000000   \n",
              "mean                                 0.182715   \n",
              "std                                  0.030785   \n",
              "min                                  0.000000   \n",
              "25%                                  0.169376   \n",
              "50%                                  0.178456   \n",
              "75%                                  0.191607   \n",
              "max                                  1.000000   \n",
              "\n",
              "        Inventory and accounts receivable/Net value   Total Asset Turnover  \\\n",
              "count                                   6819.000000            6819.000000   \n",
              "mean                                       0.402459               0.141606   \n",
              "std                                        0.013324               0.101145   \n",
              "min                                        0.000000               0.000000   \n",
              "25%                                        0.397403               0.076462   \n",
              "50%                                        0.400131               0.118441   \n",
              "75%                                        0.404551               0.176912   \n",
              "max                                        1.000000               1.000000   \n",
              "\n",
              "       ...   Net Worth Turnover Rate (times)   Revenue per person  \\\n",
              "count  ...                       6819.000000         6.819000e+03   \n",
              "mean   ...                          0.038595         2.325854e+06   \n",
              "std    ...                          0.036680         1.366327e+08   \n",
              "min    ...                          0.000000         0.000000e+00   \n",
              "25%    ...                          0.021774         1.043285e-02   \n",
              "50%    ...                          0.029516         1.861551e-02   \n",
              "75%    ...                          0.042903         3.585477e-02   \n",
              "max    ...                          1.000000         8.810000e+09   \n",
              "\n",
              "        Operating profit per person   Allocation rate per person  \\\n",
              "count                   6819.000000                 6.819000e+03   \n",
              "mean                       0.400671                 1.125579e+07   \n",
              "std                        0.032720                 2.945063e+08   \n",
              "min                        0.000000                 0.000000e+00   \n",
              "25%                        0.392438                 4.120529e-03   \n",
              "50%                        0.395898                 7.844373e-03   \n",
              "75%                        0.401851                 1.502031e-02   \n",
              "max                        1.000000                 9.570000e+09   \n",
              "\n",
              "        Working Capital to Total Assets   Quick Assets/Total Assets  \\\n",
              "count                       6819.000000                 6819.000000   \n",
              "mean                           0.814125                    0.400132   \n",
              "std                            0.059054                    0.201998   \n",
              "min                            0.000000                    0.000000   \n",
              "25%                            0.774309                    0.241973   \n",
              "50%                            0.810275                    0.386451   \n",
              "75%                            0.850383                    0.540594   \n",
              "max                            1.000000                    1.000000   \n",
              "\n",
              "        Current Assets/Total Assets   Cash/Total Assets  \\\n",
              "count                   6819.000000         6819.000000   \n",
              "mean                       0.522273            0.124095   \n",
              "std                        0.218112            0.139251   \n",
              "min                        0.000000            0.000000   \n",
              "25%                        0.352845            0.033543   \n",
              "50%                        0.514830            0.074887   \n",
              "75%                        0.689051            0.161073   \n",
              "max                        1.000000            1.000000   \n",
              "\n",
              "        Quick Assets/Current Liability   Cash/Current Liability  \\\n",
              "count                     6.819000e+03             6.819000e+03   \n",
              "mean                      3.592902e+06             3.715999e+07   \n",
              "std                       1.716209e+08             5.103509e+08   \n",
              "min                       0.000000e+00             0.000000e+00   \n",
              "25%                       5.239776e-03             1.973008e-03   \n",
              "50%                       7.908898e-03             4.903886e-03   \n",
              "75%                       1.295091e-02             1.280557e-02   \n",
              "max                       8.820000e+09             9.650000e+09   \n",
              "\n",
              "        Current Liability to Assets   Operating Funds to Liability  \\\n",
              "count                   6819.000000                    6819.000000   \n",
              "mean                       0.090673                       0.353828   \n",
              "std                        0.050290                       0.035147   \n",
              "min                        0.000000                       0.000000   \n",
              "25%                        0.053301                       0.341023   \n",
              "50%                        0.082705                       0.348597   \n",
              "75%                        0.119523                       0.360915   \n",
              "max                        1.000000                       1.000000   \n",
              "\n",
              "        Inventory/Working Capital   Inventory/Current Liability  \\\n",
              "count                 6819.000000                  6.819000e+03   \n",
              "mean                     0.277395                  5.580680e+07   \n",
              "std                      0.010469                  5.820516e+08   \n",
              "min                      0.000000                  0.000000e+00   \n",
              "25%                      0.277034                  3.163148e-03   \n",
              "50%                      0.277178                  6.497335e-03   \n",
              "75%                      0.277429                  1.114677e-02   \n",
              "max                      1.000000                  9.910000e+09   \n",
              "\n",
              "        Current Liabilities/Liability   Working Capital/Equity  \\\n",
              "count                     6819.000000              6819.000000   \n",
              "mean                         0.761599                 0.735817   \n",
              "std                          0.206677                 0.011678   \n",
              "min                          0.000000                 0.000000   \n",
              "25%                          0.626981                 0.733612   \n",
              "50%                          0.806881                 0.736013   \n",
              "75%                          0.942027                 0.738560   \n",
              "max                          1.000000                 1.000000   \n",
              "\n",
              "        Current Liabilities/Equity   Long-term Liability to Current Assets  \\\n",
              "count                  6819.000000                            6.819000e+03   \n",
              "mean                      0.331410                            5.416004e+07   \n",
              "std                       0.013488                            5.702706e+08   \n",
              "min                       0.000000                            0.000000e+00   \n",
              "25%                       0.328096                            0.000000e+00   \n",
              "50%                       0.329685                            1.974619e-03   \n",
              "75%                       0.332322                            9.005946e-03   \n",
              "max                       1.000000                            9.540000e+09   \n",
              "\n",
              "        Retained Earnings to Total Assets   Total income/Total expense  \\\n",
              "count                         6819.000000                  6819.000000   \n",
              "mean                             0.934733                     0.002549   \n",
              "std                              0.025564                     0.012093   \n",
              "min                              0.000000                     0.000000   \n",
              "25%                              0.931097                     0.002236   \n",
              "50%                              0.937672                     0.002336   \n",
              "75%                              0.944811                     0.002492   \n",
              "max                              1.000000                     1.000000   \n",
              "\n",
              "        Total expense/Assets   Current Asset Turnover Rate  \\\n",
              "count            6819.000000                  6.819000e+03   \n",
              "mean                0.029184                  1.195856e+09   \n",
              "std                 0.027149                  2.821161e+09   \n",
              "min                 0.000000                  0.000000e+00   \n",
              "25%                 0.014567                  1.456236e-04   \n",
              "50%                 0.022674                  1.987816e-04   \n",
              "75%                 0.035930                  4.525945e-04   \n",
              "max                 1.000000                  1.000000e+10   \n",
              "\n",
              "        Quick Asset Turnover Rate   Working capitcal Turnover Rate  \\\n",
              "count                6.819000e+03                      6819.000000   \n",
              "mean                 2.163735e+09                         0.594006   \n",
              "std                  3.374944e+09                         0.008959   \n",
              "min                  0.000000e+00                         0.000000   \n",
              "25%                  1.417149e-04                         0.593934   \n",
              "50%                  2.247728e-04                         0.593963   \n",
              "75%                  4.900000e+09                         0.594002   \n",
              "max                  1.000000e+10                         1.000000   \n",
              "\n",
              "        Cash Turnover Rate   Cash Flow to Sales   Fixed Assets to Assets  \\\n",
              "count         6.819000e+03          6819.000000             6.819000e+03   \n",
              "mean          2.471977e+09             0.671531             1.220121e+06   \n",
              "std           2.938623e+09             0.009341             1.007542e+08   \n",
              "min           0.000000e+00             0.000000             0.000000e+00   \n",
              "25%           2.735337e-04             0.671565             8.536037e-02   \n",
              "50%           1.080000e+09             0.671574             1.968810e-01   \n",
              "75%           4.510000e+09             0.671587             3.722000e-01   \n",
              "max           1.000000e+10             1.000000             8.320000e+09   \n",
              "\n",
              "        Current Liability to Liability   Current Liability to Equity  \\\n",
              "count                      6819.000000                   6819.000000   \n",
              "mean                          0.761599                      0.331410   \n",
              "std                           0.206677                      0.013488   \n",
              "min                           0.000000                      0.000000   \n",
              "25%                           0.626981                      0.328096   \n",
              "50%                           0.806881                      0.329685   \n",
              "75%                           0.942027                      0.332322   \n",
              "max                           1.000000                      1.000000   \n",
              "\n",
              "        Equity to Long-term Liability   Cash Flow to Total Assets  \\\n",
              "count                     6819.000000                 6819.000000   \n",
              "mean                         0.115645                    0.649731   \n",
              "std                          0.019529                    0.047372   \n",
              "min                          0.000000                    0.000000   \n",
              "25%                          0.110933                    0.633265   \n",
              "50%                          0.112340                    0.645366   \n",
              "75%                          0.117106                    0.663062   \n",
              "max                          1.000000                    1.000000   \n",
              "\n",
              "        Cash Flow to Liability   CFO to Assets   Cash Flow to Equity  \\\n",
              "count              6819.000000     6819.000000           6819.000000   \n",
              "mean                  0.461849        0.593415              0.315582   \n",
              "std                   0.029943        0.058561              0.012961   \n",
              "min                   0.000000        0.000000              0.000000   \n",
              "25%                   0.457116        0.565987              0.312995   \n",
              "50%                   0.459750        0.593266              0.314953   \n",
              "75%                   0.464236        0.624769              0.317707   \n",
              "max                   1.000000        1.000000              1.000000   \n",
              "\n",
              "        Current Liability to Current Assets   Liability-Assets Flag  \\\n",
              "count                           6819.000000             6819.000000   \n",
              "mean                               0.031506                0.001173   \n",
              "std                                0.030845                0.034234   \n",
              "min                                0.000000                0.000000   \n",
              "25%                                0.018034                0.000000   \n",
              "50%                                0.027597                0.000000   \n",
              "75%                                0.038375                0.000000   \n",
              "max                                1.000000                1.000000   \n",
              "\n",
              "        Net Income to Total Assets   Total assets to GNP price  \\\n",
              "count                  6819.000000                6.819000e+03   \n",
              "mean                      0.807760                1.862942e+07   \n",
              "std                       0.040332                3.764501e+08   \n",
              "min                       0.000000                0.000000e+00   \n",
              "25%                       0.796750                9.036205e-04   \n",
              "50%                       0.810619                2.085213e-03   \n",
              "75%                       0.826455                5.269777e-03   \n",
              "max                       1.000000                9.820000e+09   \n",
              "\n",
              "        No-credit Interval   Gross Profit to Sales  \\\n",
              "count          6819.000000             6819.000000   \n",
              "mean              0.623915                0.607946   \n",
              "std               0.012290                0.016934   \n",
              "min               0.000000                0.000000   \n",
              "25%               0.623636                0.600443   \n",
              "50%               0.623879                0.605998   \n",
              "75%               0.624168                0.613913   \n",
              "max               1.000000                1.000000   \n",
              "\n",
              "        Net Income to Stockholder's Equity   Liability to Equity  \\\n",
              "count                          6819.000000           6819.000000   \n",
              "mean                              0.840402              0.280365   \n",
              "std                               0.014523              0.014463   \n",
              "min                               0.000000              0.000000   \n",
              "25%                               0.840115              0.276944   \n",
              "50%                               0.841179              0.278778   \n",
              "75%                               0.842357              0.281449   \n",
              "max                               1.000000              1.000000   \n",
              "\n",
              "        Degree of Financial Leverage (DFL)  \\\n",
              "count                          6819.000000   \n",
              "mean                              0.027541   \n",
              "std                               0.015668   \n",
              "min                               0.000000   \n",
              "25%                               0.026791   \n",
              "50%                               0.026808   \n",
              "75%                               0.026913   \n",
              "max                               1.000000   \n",
              "\n",
              "        Interest Coverage Ratio (Interest expense to EBIT)   Net Income Flag  \\\n",
              "count                                        6819.000000              6819.0   \n",
              "mean                                            0.565358                 1.0   \n",
              "std                                             0.013214                 0.0   \n",
              "min                                             0.000000                 1.0   \n",
              "25%                                             0.565158                 1.0   \n",
              "50%                                             0.565252                 1.0   \n",
              "75%                                             0.565725                 1.0   \n",
              "max                                             1.000000                 1.0   \n",
              "\n",
              "        Equity to Liability  \n",
              "count           6819.000000  \n",
              "mean               0.047578  \n",
              "std                0.050014  \n",
              "min                0.000000  \n",
              "25%                0.024477  \n",
              "50%                0.033798  \n",
              "75%                0.052838  \n",
              "max                1.000000  \n",
              "\n",
              "[8 rows x 96 columns]"
            ]
          },
          "metadata": {},
          "execution_count": 10
        }
      ]
    },
    {
      "cell_type": "code",
      "metadata": {
        "colab": {
          "base_uri": "https://localhost:8080/"
        },
        "id": "n-oFXzhw3a8h",
        "outputId": "5911e555-ad21-412d-924c-be63f165d9c7"
      },
      "source": [
        "# Check for class imbalance\n",
        "original_data.iloc[:,:1].value_counts()"
      ],
      "execution_count": 11,
      "outputs": [
        {
          "output_type": "execute_result",
          "data": {
            "text/plain": [
              "Bankrupt?\n",
              "0            6599\n",
              "1             220\n",
              "dtype: int64"
            ]
          },
          "metadata": {},
          "execution_count": 11
        }
      ]
    },
    {
      "cell_type": "code",
      "metadata": {
        "colab": {
          "base_uri": "https://localhost:8080/",
          "height": 304
        },
        "id": "8QCaAoOe9s1t",
        "outputId": "7d9e7e45-bf14-4e64-de01-f3ee8988af53"
      },
      "source": [
        "# Plot class imbalance\n",
        "original_data.iloc[:,:1].value_counts().plot(kind= 'bar')"
      ],
      "execution_count": 12,
      "outputs": [
        {
          "output_type": "execute_result",
          "data": {
            "text/plain": [
              "<matplotlib.axes._subplots.AxesSubplot at 0x7f02eb62e150>"
            ]
          },
          "metadata": {},
          "execution_count": 12
        },
        {
          "output_type": "display_data",
          "data": {
            "image/png": "[encoded data removed]",
            "text/plain": [
              "<Figure size 432x288 with 1 Axes>"
            ]
          },
          "metadata": {
            "needs_background": "light"
          }
        }
      ]
    },
    {
      "cell_type": "code",
      "metadata": {
        "id": "yBLAIjjbSVJa",
        "colab": {
          "base_uri": "https://localhost:8080/",
          "height": 376
        },
        "outputId": "07256c4a-7caa-4e26-b81e-14ce8d7c7af6"
      },
      "source": [
        "# Select the features for analysis\n",
        "x = original_data.iloc[:,1:]\n",
        "y = original_data['Bankrupt?']\n",
        "x.head()"
      ],
      "execution_count": 13,
      "outputs": [
        {
          "output_type": "execute_result",
          "data": {
            "text/html": [
              "<div>\n",
              "<style scoped>\n",
              "    .dataframe tbody tr th:only-of-type {\n",
              "        vertical-align: middle;\n",
              "    }\n",
              "\n",
              "    .dataframe tbody tr th {\n",
              "        vertical-align: top;\n",
              "    }\n",
              "\n",
              "    .dataframe thead th {\n",
              "        text-align: right;\n",
              "    }\n",
              "</style>\n",
              "<table border=\"1\" class=\"dataframe\">\n",
              "  <thead>\n",
              "    <tr style=\"text-align: right;\">\n",
              "      <th></th>\n",
              "      <th>ROA(C) before interest and depreciation before interest</th>\n",
              "      <th>ROA(A) before interest and % after tax</th>\n",
              "      <th>ROA(B) before interest and depreciation after tax</th>\n",
              "      <th>Operating Gross Margin</th>\n",
              "      <th>Realized Sales Gross Margin</th>\n",
              "      <th>Operating Profit Rate</th>\n",
              "      <th>Pre-tax net Interest Rate</th>\n",
              "      <th>After-tax net Interest Rate</th>\n",
              "      <th>Non-industry income and expenditure/revenue</th>\n",
              "      <th>Continuous interest rate (after tax)</th>\n",
              "      <th>Operating Expense Rate</th>\n",
              "      <th>Research and development expense rate</th>\n",
              "      <th>Cash flow rate</th>\n",
              "      <th>Interest-bearing debt interest rate</th>\n",
              "      <th>Tax rate (A)</th>\n",
              "      <th>Net Value Per Share (B)</th>\n",
              "      <th>Net Value Per Share (A)</th>\n",
              "      <th>Net Value Per Share (C)</th>\n",
              "      <th>Persistent EPS in the Last Four Seasons</th>\n",
              "      <th>Cash Flow Per Share</th>\n",
              "      <th>Revenue Per Share (Yuan ¥)</th>\n",
              "      <th>Operating Profit Per Share (Yuan ¥)</th>\n",
              "      <th>Per Share Net profit before tax (Yuan ¥)</th>\n",
              "      <th>Realized Sales Gross Profit Growth Rate</th>\n",
              "      <th>Operating Profit Growth Rate</th>\n",
              "      <th>After-tax Net Profit Growth Rate</th>\n",
              "      <th>Regular Net Profit Growth Rate</th>\n",
              "      <th>Continuous Net Profit Growth Rate</th>\n",
              "      <th>Total Asset Growth Rate</th>\n",
              "      <th>Net Value Growth Rate</th>\n",
              "      <th>Total Asset Return Growth Rate Ratio</th>\n",
              "      <th>Cash Reinvestment %</th>\n",
              "      <th>Current Ratio</th>\n",
              "      <th>Quick Ratio</th>\n",
              "      <th>Interest Expense Ratio</th>\n",
              "      <th>Total debt/Total net worth</th>\n",
              "      <th>Debt ratio %</th>\n",
              "      <th>Net worth/Assets</th>\n",
              "      <th>Long-term fund suitability ratio (A)</th>\n",
              "      <th>Borrowing dependency</th>\n",
              "      <th>Contingent liabilities/Net worth</th>\n",
              "      <th>Operating profit/Paid-in capital</th>\n",
              "      <th>Net profit before tax/Paid-in capital</th>\n",
              "      <th>Inventory and accounts receivable/Net value</th>\n",
              "      <th>Total Asset Turnover</th>\n",
              "      <th>Accounts Receivable Turnover</th>\n",
              "      <th>...</th>\n",
              "      <th>Net Worth Turnover Rate (times)</th>\n",
              "      <th>Revenue per person</th>\n",
              "      <th>Operating profit per person</th>\n",
              "      <th>Allocation rate per person</th>\n",
              "      <th>Working Capital to Total Assets</th>\n",
              "      <th>Quick Assets/Total Assets</th>\n",
              "      <th>Current Assets/Total Assets</th>\n",
              "      <th>Cash/Total Assets</th>\n",
              "      <th>Quick Assets/Current Liability</th>\n",
              "      <th>Cash/Current Liability</th>\n",
              "      <th>Current Liability to Assets</th>\n",
              "      <th>Operating Funds to Liability</th>\n",
              "      <th>Inventory/Working Capital</th>\n",
              "      <th>Inventory/Current Liability</th>\n",
              "      <th>Current Liabilities/Liability</th>\n",
              "      <th>Working Capital/Equity</th>\n",
              "      <th>Current Liabilities/Equity</th>\n",
              "      <th>Long-term Liability to Current Assets</th>\n",
              "      <th>Retained Earnings to Total Assets</th>\n",
              "      <th>Total income/Total expense</th>\n",
              "      <th>Total expense/Assets</th>\n",
              "      <th>Current Asset Turnover Rate</th>\n",
              "      <th>Quick Asset Turnover Rate</th>\n",
              "      <th>Working capitcal Turnover Rate</th>\n",
              "      <th>Cash Turnover Rate</th>\n",
              "      <th>Cash Flow to Sales</th>\n",
              "      <th>Fixed Assets to Assets</th>\n",
              "      <th>Current Liability to Liability</th>\n",
              "      <th>Current Liability to Equity</th>\n",
              "      <th>Equity to Long-term Liability</th>\n",
              "      <th>Cash Flow to Total Assets</th>\n",
              "      <th>Cash Flow to Liability</th>\n",
              "      <th>CFO to Assets</th>\n",
              "      <th>Cash Flow to Equity</th>\n",
              "      <th>Current Liability to Current Assets</th>\n",
              "      <th>Liability-Assets Flag</th>\n",
              "      <th>Net Income to Total Assets</th>\n",
              "      <th>Total assets to GNP price</th>\n",
              "      <th>No-credit Interval</th>\n",
              "      <th>Gross Profit to Sales</th>\n",
              "      <th>Net Income to Stockholder's Equity</th>\n",
              "      <th>Liability to Equity</th>\n",
              "      <th>Degree of Financial Leverage (DFL)</th>\n",
              "      <th>Interest Coverage Ratio (Interest expense to EBIT)</th>\n",
              "      <th>Net Income Flag</th>\n",
              "      <th>Equity to Liability</th>\n",
              "    </tr>\n",
              "  </thead>\n",
              "  <tbody>\n",
              "    <tr>\n",
              "      <th>0</th>\n",
              "      <td>0.370594</td>\n",
              "      <td>0.424389</td>\n",
              "      <td>0.405750</td>\n",
              "      <td>0.601457</td>\n",
              "      <td>0.601457</td>\n",
              "      <td>0.998969</td>\n",
              "      <td>0.796887</td>\n",
              "      <td>0.808809</td>\n",
              "      <td>0.302646</td>\n",
              "      <td>0.780985</td>\n",
              "      <td>1.256969e-04</td>\n",
              "      <td>0.0</td>\n",
              "      <td>0.458143</td>\n",
              "      <td>0.000725</td>\n",
              "      <td>0.0</td>\n",
              "      <td>0.147950</td>\n",
              "      <td>0.147950</td>\n",
              "      <td>0.147950</td>\n",
              "      <td>0.169141</td>\n",
              "      <td>0.311664</td>\n",
              "      <td>0.017560</td>\n",
              "      <td>0.095921</td>\n",
              "      <td>0.138736</td>\n",
              "      <td>0.022102</td>\n",
              "      <td>0.848195</td>\n",
              "      <td>0.688979</td>\n",
              "      <td>0.688979</td>\n",
              "      <td>0.217535</td>\n",
              "      <td>4.980000e+09</td>\n",
              "      <td>0.000327</td>\n",
              "      <td>0.263100</td>\n",
              "      <td>0.363725</td>\n",
              "      <td>0.002259</td>\n",
              "      <td>0.001208</td>\n",
              "      <td>0.629951</td>\n",
              "      <td>0.021266</td>\n",
              "      <td>0.207576</td>\n",
              "      <td>0.792424</td>\n",
              "      <td>0.005024</td>\n",
              "      <td>0.390284</td>\n",
              "      <td>0.006479</td>\n",
              "      <td>0.095885</td>\n",
              "      <td>0.137757</td>\n",
              "      <td>0.398036</td>\n",
              "      <td>0.086957</td>\n",
              "      <td>0.001814</td>\n",
              "      <td>...</td>\n",
              "      <td>0.032903</td>\n",
              "      <td>0.034164</td>\n",
              "      <td>0.392913</td>\n",
              "      <td>0.037135</td>\n",
              "      <td>0.672775</td>\n",
              "      <td>0.166673</td>\n",
              "      <td>0.190643</td>\n",
              "      <td>0.004094</td>\n",
              "      <td>0.001997</td>\n",
              "      <td>1.473360e-04</td>\n",
              "      <td>0.147308</td>\n",
              "      <td>0.334015</td>\n",
              "      <td>0.276920</td>\n",
              "      <td>0.001036</td>\n",
              "      <td>0.676269</td>\n",
              "      <td>0.721275</td>\n",
              "      <td>0.339077</td>\n",
              "      <td>0.025592</td>\n",
              "      <td>0.903225</td>\n",
              "      <td>0.002022</td>\n",
              "      <td>0.064856</td>\n",
              "      <td>7.010000e+08</td>\n",
              "      <td>6.550000e+09</td>\n",
              "      <td>0.593831</td>\n",
              "      <td>4.580000e+08</td>\n",
              "      <td>0.671568</td>\n",
              "      <td>0.424206</td>\n",
              "      <td>0.676269</td>\n",
              "      <td>0.339077</td>\n",
              "      <td>0.126549</td>\n",
              "      <td>0.637555</td>\n",
              "      <td>0.458609</td>\n",
              "      <td>0.520382</td>\n",
              "      <td>0.312905</td>\n",
              "      <td>0.118250</td>\n",
              "      <td>0</td>\n",
              "      <td>0.716845</td>\n",
              "      <td>0.009219</td>\n",
              "      <td>0.622879</td>\n",
              "      <td>0.601453</td>\n",
              "      <td>0.827890</td>\n",
              "      <td>0.290202</td>\n",
              "      <td>0.026601</td>\n",
              "      <td>0.564050</td>\n",
              "      <td>1</td>\n",
              "      <td>0.016469</td>\n",
              "    </tr>\n",
              "    <tr>\n",
              "      <th>1</th>\n",
              "      <td>0.464291</td>\n",
              "      <td>0.538214</td>\n",
              "      <td>0.516730</td>\n",
              "      <td>0.610235</td>\n",
              "      <td>0.610235</td>\n",
              "      <td>0.998946</td>\n",
              "      <td>0.797380</td>\n",
              "      <td>0.809301</td>\n",
              "      <td>0.303556</td>\n",
              "      <td>0.781506</td>\n",
              "      <td>2.897851e-04</td>\n",
              "      <td>0.0</td>\n",
              "      <td>0.461867</td>\n",
              "      <td>0.000647</td>\n",
              "      <td>0.0</td>\n",
              "      <td>0.182251</td>\n",
              "      <td>0.182251</td>\n",
              "      <td>0.182251</td>\n",
              "      <td>0.208944</td>\n",
              "      <td>0.318137</td>\n",
              "      <td>0.021144</td>\n",
              "      <td>0.093722</td>\n",
              "      <td>0.169918</td>\n",
              "      <td>0.022080</td>\n",
              "      <td>0.848088</td>\n",
              "      <td>0.689693</td>\n",
              "      <td>0.689702</td>\n",
              "      <td>0.217620</td>\n",
              "      <td>6.110000e+09</td>\n",
              "      <td>0.000443</td>\n",
              "      <td>0.264516</td>\n",
              "      <td>0.376709</td>\n",
              "      <td>0.006016</td>\n",
              "      <td>0.004039</td>\n",
              "      <td>0.635172</td>\n",
              "      <td>0.012502</td>\n",
              "      <td>0.171176</td>\n",
              "      <td>0.828824</td>\n",
              "      <td>0.005059</td>\n",
              "      <td>0.376760</td>\n",
              "      <td>0.005835</td>\n",
              "      <td>0.093743</td>\n",
              "      <td>0.168962</td>\n",
              "      <td>0.397725</td>\n",
              "      <td>0.064468</td>\n",
              "      <td>0.001286</td>\n",
              "      <td>...</td>\n",
              "      <td>0.025484</td>\n",
              "      <td>0.006889</td>\n",
              "      <td>0.391590</td>\n",
              "      <td>0.012335</td>\n",
              "      <td>0.751111</td>\n",
              "      <td>0.127236</td>\n",
              "      <td>0.182419</td>\n",
              "      <td>0.014948</td>\n",
              "      <td>0.004136</td>\n",
              "      <td>1.383910e-03</td>\n",
              "      <td>0.056963</td>\n",
              "      <td>0.341106</td>\n",
              "      <td>0.289642</td>\n",
              "      <td>0.005210</td>\n",
              "      <td>0.308589</td>\n",
              "      <td>0.731975</td>\n",
              "      <td>0.329740</td>\n",
              "      <td>0.023947</td>\n",
              "      <td>0.931065</td>\n",
              "      <td>0.002226</td>\n",
              "      <td>0.025516</td>\n",
              "      <td>1.065198e-04</td>\n",
              "      <td>7.700000e+09</td>\n",
              "      <td>0.593916</td>\n",
              "      <td>2.490000e+09</td>\n",
              "      <td>0.671570</td>\n",
              "      <td>0.468828</td>\n",
              "      <td>0.308589</td>\n",
              "      <td>0.329740</td>\n",
              "      <td>0.120916</td>\n",
              "      <td>0.641100</td>\n",
              "      <td>0.459001</td>\n",
              "      <td>0.567101</td>\n",
              "      <td>0.314163</td>\n",
              "      <td>0.047775</td>\n",
              "      <td>0</td>\n",
              "      <td>0.795297</td>\n",
              "      <td>0.008323</td>\n",
              "      <td>0.623652</td>\n",
              "      <td>0.610237</td>\n",
              "      <td>0.839969</td>\n",
              "      <td>0.283846</td>\n",
              "      <td>0.264577</td>\n",
              "      <td>0.570175</td>\n",
              "      <td>1</td>\n",
              "      <td>0.020794</td>\n",
              "    </tr>\n",
              "    <tr>\n",
              "      <th>2</th>\n",
              "      <td>0.426071</td>\n",
              "      <td>0.499019</td>\n",
              "      <td>0.472295</td>\n",
              "      <td>0.601450</td>\n",
              "      <td>0.601364</td>\n",
              "      <td>0.998857</td>\n",
              "      <td>0.796403</td>\n",
              "      <td>0.808388</td>\n",
              "      <td>0.302035</td>\n",
              "      <td>0.780284</td>\n",
              "      <td>2.361297e-04</td>\n",
              "      <td>25500000.0</td>\n",
              "      <td>0.458521</td>\n",
              "      <td>0.000790</td>\n",
              "      <td>0.0</td>\n",
              "      <td>0.177911</td>\n",
              "      <td>0.177911</td>\n",
              "      <td>0.193713</td>\n",
              "      <td>0.180581</td>\n",
              "      <td>0.307102</td>\n",
              "      <td>0.005944</td>\n",
              "      <td>0.092338</td>\n",
              "      <td>0.142803</td>\n",
              "      <td>0.022760</td>\n",
              "      <td>0.848094</td>\n",
              "      <td>0.689463</td>\n",
              "      <td>0.689470</td>\n",
              "      <td>0.217601</td>\n",
              "      <td>7.280000e+09</td>\n",
              "      <td>0.000396</td>\n",
              "      <td>0.264184</td>\n",
              "      <td>0.368913</td>\n",
              "      <td>0.011543</td>\n",
              "      <td>0.005348</td>\n",
              "      <td>0.629631</td>\n",
              "      <td>0.021248</td>\n",
              "      <td>0.207516</td>\n",
              "      <td>0.792484</td>\n",
              "      <td>0.005100</td>\n",
              "      <td>0.379093</td>\n",
              "      <td>0.006562</td>\n",
              "      <td>0.092318</td>\n",
              "      <td>0.148036</td>\n",
              "      <td>0.406580</td>\n",
              "      <td>0.014993</td>\n",
              "      <td>0.001495</td>\n",
              "      <td>...</td>\n",
              "      <td>0.013387</td>\n",
              "      <td>0.028997</td>\n",
              "      <td>0.381968</td>\n",
              "      <td>0.141016</td>\n",
              "      <td>0.829502</td>\n",
              "      <td>0.340201</td>\n",
              "      <td>0.602806</td>\n",
              "      <td>0.000991</td>\n",
              "      <td>0.006302</td>\n",
              "      <td>5.340000e+09</td>\n",
              "      <td>0.098162</td>\n",
              "      <td>0.336731</td>\n",
              "      <td>0.277456</td>\n",
              "      <td>0.013879</td>\n",
              "      <td>0.446027</td>\n",
              "      <td>0.742729</td>\n",
              "      <td>0.334777</td>\n",
              "      <td>0.003715</td>\n",
              "      <td>0.909903</td>\n",
              "      <td>0.002060</td>\n",
              "      <td>0.021387</td>\n",
              "      <td>1.791094e-03</td>\n",
              "      <td>1.022676e-03</td>\n",
              "      <td>0.594502</td>\n",
              "      <td>7.610000e+08</td>\n",
              "      <td>0.671571</td>\n",
              "      <td>0.276179</td>\n",
              "      <td>0.446027</td>\n",
              "      <td>0.334777</td>\n",
              "      <td>0.117922</td>\n",
              "      <td>0.642765</td>\n",
              "      <td>0.459254</td>\n",
              "      <td>0.538491</td>\n",
              "      <td>0.314515</td>\n",
              "      <td>0.025346</td>\n",
              "      <td>0</td>\n",
              "      <td>0.774670</td>\n",
              "      <td>0.040003</td>\n",
              "      <td>0.623841</td>\n",
              "      <td>0.601449</td>\n",
              "      <td>0.836774</td>\n",
              "      <td>0.290189</td>\n",
              "      <td>0.026555</td>\n",
              "      <td>0.563706</td>\n",
              "      <td>1</td>\n",
              "      <td>0.016474</td>\n",
              "    </tr>\n",
              "    <tr>\n",
              "      <th>3</th>\n",
              "      <td>0.399844</td>\n",
              "      <td>0.451265</td>\n",
              "      <td>0.457733</td>\n",
              "      <td>0.583541</td>\n",
              "      <td>0.583541</td>\n",
              "      <td>0.998700</td>\n",
              "      <td>0.796967</td>\n",
              "      <td>0.808966</td>\n",
              "      <td>0.303350</td>\n",
              "      <td>0.781241</td>\n",
              "      <td>1.078888e-04</td>\n",
              "      <td>0.0</td>\n",
              "      <td>0.465705</td>\n",
              "      <td>0.000449</td>\n",
              "      <td>0.0</td>\n",
              "      <td>0.154187</td>\n",
              "      <td>0.154187</td>\n",
              "      <td>0.154187</td>\n",
              "      <td>0.193722</td>\n",
              "      <td>0.321674</td>\n",
              "      <td>0.014368</td>\n",
              "      <td>0.077762</td>\n",
              "      <td>0.148603</td>\n",
              "      <td>0.022046</td>\n",
              "      <td>0.848005</td>\n",
              "      <td>0.689110</td>\n",
              "      <td>0.689110</td>\n",
              "      <td>0.217568</td>\n",
              "      <td>4.880000e+09</td>\n",
              "      <td>0.000382</td>\n",
              "      <td>0.263371</td>\n",
              "      <td>0.384077</td>\n",
              "      <td>0.004194</td>\n",
              "      <td>0.002896</td>\n",
              "      <td>0.630228</td>\n",
              "      <td>0.009572</td>\n",
              "      <td>0.151465</td>\n",
              "      <td>0.848535</td>\n",
              "      <td>0.005047</td>\n",
              "      <td>0.379743</td>\n",
              "      <td>0.005366</td>\n",
              "      <td>0.077727</td>\n",
              "      <td>0.147561</td>\n",
              "      <td>0.397925</td>\n",
              "      <td>0.089955</td>\n",
              "      <td>0.001966</td>\n",
              "      <td>...</td>\n",
              "      <td>0.028065</td>\n",
              "      <td>0.015463</td>\n",
              "      <td>0.378497</td>\n",
              "      <td>0.021320</td>\n",
              "      <td>0.725754</td>\n",
              "      <td>0.161575</td>\n",
              "      <td>0.225815</td>\n",
              "      <td>0.018851</td>\n",
              "      <td>0.002961</td>\n",
              "      <td>1.010646e-03</td>\n",
              "      <td>0.098715</td>\n",
              "      <td>0.348716</td>\n",
              "      <td>0.276580</td>\n",
              "      <td>0.003540</td>\n",
              "      <td>0.615848</td>\n",
              "      <td>0.729825</td>\n",
              "      <td>0.331509</td>\n",
              "      <td>0.022165</td>\n",
              "      <td>0.906902</td>\n",
              "      <td>0.001831</td>\n",
              "      <td>0.024161</td>\n",
              "      <td>8.140000e+09</td>\n",
              "      <td>6.050000e+09</td>\n",
              "      <td>0.593889</td>\n",
              "      <td>2.030000e+09</td>\n",
              "      <td>0.671519</td>\n",
              "      <td>0.559144</td>\n",
              "      <td>0.615848</td>\n",
              "      <td>0.331509</td>\n",
              "      <td>0.120760</td>\n",
              "      <td>0.579039</td>\n",
              "      <td>0.448518</td>\n",
              "      <td>0.604105</td>\n",
              "      <td>0.302382</td>\n",
              "      <td>0.067250</td>\n",
              "      <td>0</td>\n",
              "      <td>0.739555</td>\n",
              "      <td>0.003252</td>\n",
              "      <td>0.622929</td>\n",
              "      <td>0.583538</td>\n",
              "      <td>0.834697</td>\n",
              "      <td>0.281721</td>\n",
              "      <td>0.026697</td>\n",
              "      <td>0.564663</td>\n",
              "      <td>1</td>\n",
              "      <td>0.023982</td>\n",
              "    </tr>\n",
              "    <tr>\n",
              "      <th>4</th>\n",
              "      <td>0.465022</td>\n",
              "      <td>0.538432</td>\n",
              "      <td>0.522298</td>\n",
              "      <td>0.598783</td>\n",
              "      <td>0.598783</td>\n",
              "      <td>0.998973</td>\n",
              "      <td>0.797366</td>\n",
              "      <td>0.809304</td>\n",
              "      <td>0.303475</td>\n",
              "      <td>0.781550</td>\n",
              "      <td>7.890000e+09</td>\n",
              "      <td>0.0</td>\n",
              "      <td>0.462746</td>\n",
              "      <td>0.000686</td>\n",
              "      <td>0.0</td>\n",
              "      <td>0.167502</td>\n",
              "      <td>0.167502</td>\n",
              "      <td>0.167502</td>\n",
              "      <td>0.212537</td>\n",
              "      <td>0.319162</td>\n",
              "      <td>0.029690</td>\n",
              "      <td>0.096898</td>\n",
              "      <td>0.168412</td>\n",
              "      <td>0.022096</td>\n",
              "      <td>0.848258</td>\n",
              "      <td>0.689697</td>\n",
              "      <td>0.689697</td>\n",
              "      <td>0.217626</td>\n",
              "      <td>5.510000e+09</td>\n",
              "      <td>0.000439</td>\n",
              "      <td>0.265218</td>\n",
              "      <td>0.379690</td>\n",
              "      <td>0.006022</td>\n",
              "      <td>0.003727</td>\n",
              "      <td>0.636055</td>\n",
              "      <td>0.005150</td>\n",
              "      <td>0.106509</td>\n",
              "      <td>0.893491</td>\n",
              "      <td>0.005303</td>\n",
              "      <td>0.375025</td>\n",
              "      <td>0.006624</td>\n",
              "      <td>0.096927</td>\n",
              "      <td>0.167461</td>\n",
              "      <td>0.400079</td>\n",
              "      <td>0.175412</td>\n",
              "      <td>0.001449</td>\n",
              "      <td>...</td>\n",
              "      <td>0.040161</td>\n",
              "      <td>0.058111</td>\n",
              "      <td>0.394371</td>\n",
              "      <td>0.023988</td>\n",
              "      <td>0.751822</td>\n",
              "      <td>0.260330</td>\n",
              "      <td>0.358380</td>\n",
              "      <td>0.014161</td>\n",
              "      <td>0.004275</td>\n",
              "      <td>6.804636e-04</td>\n",
              "      <td>0.110195</td>\n",
              "      <td>0.344639</td>\n",
              "      <td>0.287913</td>\n",
              "      <td>0.004869</td>\n",
              "      <td>0.975007</td>\n",
              "      <td>0.732000</td>\n",
              "      <td>0.330726</td>\n",
              "      <td>0.000000</td>\n",
              "      <td>0.913850</td>\n",
              "      <td>0.002224</td>\n",
              "      <td>0.026385</td>\n",
              "      <td>6.680000e+09</td>\n",
              "      <td>5.050000e+09</td>\n",
              "      <td>0.593915</td>\n",
              "      <td>8.240000e+08</td>\n",
              "      <td>0.671563</td>\n",
              "      <td>0.309555</td>\n",
              "      <td>0.975007</td>\n",
              "      <td>0.330726</td>\n",
              "      <td>0.110933</td>\n",
              "      <td>0.622374</td>\n",
              "      <td>0.454411</td>\n",
              "      <td>0.578469</td>\n",
              "      <td>0.311567</td>\n",
              "      <td>0.047725</td>\n",
              "      <td>0</td>\n",
              "      <td>0.795016</td>\n",
              "      <td>0.003878</td>\n",
              "      <td>0.623521</td>\n",
              "      <td>0.598782</td>\n",
              "      <td>0.839973</td>\n",
              "      <td>0.278514</td>\n",
              "      <td>0.024752</td>\n",
              "      <td>0.575617</td>\n",
              "      <td>1</td>\n",
              "      <td>0.035490</td>\n",
              "    </tr>\n",
              "  </tbody>\n",
              "</table>\n",
              "<p>5 rows × 95 columns</p>\n",
              "</div>"
            ],
            "text/plain": [
              "    ROA(C) before interest and depreciation before interest  \\\n",
              "0                                           0.370594          \n",
              "1                                           0.464291          \n",
              "2                                           0.426071          \n",
              "3                                           0.399844          \n",
              "4                                           0.465022          \n",
              "\n",
              "    ROA(A) before interest and % after tax  \\\n",
              "0                                 0.424389   \n",
              "1                                 0.538214   \n",
              "2                                 0.499019   \n",
              "3                                 0.451265   \n",
              "4                                 0.538432   \n",
              "\n",
              "    ROA(B) before interest and depreciation after tax  \\\n",
              "0                                           0.405750    \n",
              "1                                           0.516730    \n",
              "2                                           0.472295    \n",
              "3                                           0.457733    \n",
              "4                                           0.522298    \n",
              "\n",
              "    Operating Gross Margin   Realized Sales Gross Margin  \\\n",
              "0                 0.601457                      0.601457   \n",
              "1                 0.610235                      0.610235   \n",
              "2                 0.601450                      0.601364   \n",
              "3                 0.583541                      0.583541   \n",
              "4                 0.598783                      0.598783   \n",
              "\n",
              "    Operating Profit Rate   Pre-tax net Interest Rate  \\\n",
              "0                0.998969                    0.796887   \n",
              "1                0.998946                    0.797380   \n",
              "2                0.998857                    0.796403   \n",
              "3                0.998700                    0.796967   \n",
              "4                0.998973                    0.797366   \n",
              "\n",
              "    After-tax net Interest Rate   Non-industry income and expenditure/revenue  \\\n",
              "0                      0.808809                                      0.302646   \n",
              "1                      0.809301                                      0.303556   \n",
              "2                      0.808388                                      0.302035   \n",
              "3                      0.808966                                      0.303350   \n",
              "4                      0.809304                                      0.303475   \n",
              "\n",
              "    Continuous interest rate (after tax)   Operating Expense Rate  \\\n",
              "0                               0.780985             1.256969e-04   \n",
              "1                               0.781506             2.897851e-04   \n",
              "2                               0.780284             2.361297e-04   \n",
              "3                               0.781241             1.078888e-04   \n",
              "4                               0.781550             7.890000e+09   \n",
              "\n",
              "    Research and development expense rate   Cash flow rate  \\\n",
              "0                                     0.0         0.458143   \n",
              "1                                     0.0         0.461867   \n",
              "2                              25500000.0         0.458521   \n",
              "3                                     0.0         0.465705   \n",
              "4                                     0.0         0.462746   \n",
              "\n",
              "    Interest-bearing debt interest rate   Tax rate (A)  \\\n",
              "0                              0.000725            0.0   \n",
              "1                              0.000647            0.0   \n",
              "2                              0.000790            0.0   \n",
              "3                              0.000449            0.0   \n",
              "4                              0.000686            0.0   \n",
              "\n",
              "    Net Value Per Share (B)   Net Value Per Share (A)  \\\n",
              "0                  0.147950                  0.147950   \n",
              "1                  0.182251                  0.182251   \n",
              "2                  0.177911                  0.177911   \n",
              "3                  0.154187                  0.154187   \n",
              "4                  0.167502                  0.167502   \n",
              "\n",
              "    Net Value Per Share (C)   Persistent EPS in the Last Four Seasons  \\\n",
              "0                  0.147950                                  0.169141   \n",
              "1                  0.182251                                  0.208944   \n",
              "2                  0.193713                                  0.180581   \n",
              "3                  0.154187                                  0.193722   \n",
              "4                  0.167502                                  0.212537   \n",
              "\n",
              "    Cash Flow Per Share   Revenue Per Share (Yuan ¥)  \\\n",
              "0              0.311664                     0.017560   \n",
              "1              0.318137                     0.021144   \n",
              "2              0.307102                     0.005944   \n",
              "3              0.321674                     0.014368   \n",
              "4              0.319162                     0.029690   \n",
              "\n",
              "    Operating Profit Per Share (Yuan ¥)  \\\n",
              "0                              0.095921   \n",
              "1                              0.093722   \n",
              "2                              0.092338   \n",
              "3                              0.077762   \n",
              "4                              0.096898   \n",
              "\n",
              "    Per Share Net profit before tax (Yuan ¥)  \\\n",
              "0                                   0.138736   \n",
              "1                                   0.169918   \n",
              "2                                   0.142803   \n",
              "3                                   0.148603   \n",
              "4                                   0.168412   \n",
              "\n",
              "    Realized Sales Gross Profit Growth Rate   Operating Profit Growth Rate  \\\n",
              "0                                  0.022102                       0.848195   \n",
              "1                                  0.022080                       0.848088   \n",
              "2                                  0.022760                       0.848094   \n",
              "3                                  0.022046                       0.848005   \n",
              "4                                  0.022096                       0.848258   \n",
              "\n",
              "    After-tax Net Profit Growth Rate   Regular Net Profit Growth Rate  \\\n",
              "0                           0.688979                         0.688979   \n",
              "1                           0.689693                         0.689702   \n",
              "2                           0.689463                         0.689470   \n",
              "3                           0.689110                         0.689110   \n",
              "4                           0.689697                         0.689697   \n",
              "\n",
              "    Continuous Net Profit Growth Rate   Total Asset Growth Rate  \\\n",
              "0                            0.217535              4.980000e+09   \n",
              "1                            0.217620              6.110000e+09   \n",
              "2                            0.217601              7.280000e+09   \n",
              "3                            0.217568              4.880000e+09   \n",
              "4                            0.217626              5.510000e+09   \n",
              "\n",
              "    Net Value Growth Rate   Total Asset Return Growth Rate Ratio  \\\n",
              "0                0.000327                               0.263100   \n",
              "1                0.000443                               0.264516   \n",
              "2                0.000396                               0.264184   \n",
              "3                0.000382                               0.263371   \n",
              "4                0.000439                               0.265218   \n",
              "\n",
              "    Cash Reinvestment %   Current Ratio   Quick Ratio  \\\n",
              "0              0.363725        0.002259      0.001208   \n",
              "1              0.376709        0.006016      0.004039   \n",
              "2              0.368913        0.011543      0.005348   \n",
              "3              0.384077        0.004194      0.002896   \n",
              "4              0.379690        0.006022      0.003727   \n",
              "\n",
              "    Interest Expense Ratio   Total debt/Total net worth   Debt ratio %  \\\n",
              "0                 0.629951                     0.021266       0.207576   \n",
              "1                 0.635172                     0.012502       0.171176   \n",
              "2                 0.629631                     0.021248       0.207516   \n",
              "3                 0.630228                     0.009572       0.151465   \n",
              "4                 0.636055                     0.005150       0.106509   \n",
              "\n",
              "    Net worth/Assets   Long-term fund suitability ratio (A)  \\\n",
              "0           0.792424                               0.005024   \n",
              "1           0.828824                               0.005059   \n",
              "2           0.792484                               0.005100   \n",
              "3           0.848535                               0.005047   \n",
              "4           0.893491                               0.005303   \n",
              "\n",
              "    Borrowing dependency   Contingent liabilities/Net worth  \\\n",
              "0               0.390284                           0.006479   \n",
              "1               0.376760                           0.005835   \n",
              "2               0.379093                           0.006562   \n",
              "3               0.379743                           0.005366   \n",
              "4               0.375025                           0.006624   \n",
              "\n",
              "    Operating profit/Paid-in capital   Net profit before tax/Paid-in capital  \\\n",
              "0                           0.095885                                0.137757   \n",
              "1                           0.093743                                0.168962   \n",
              "2                           0.092318                                0.148036   \n",
              "3                           0.077727                                0.147561   \n",
              "4                           0.096927                                0.167461   \n",
              "\n",
              "    Inventory and accounts receivable/Net value   Total Asset Turnover  \\\n",
              "0                                      0.398036               0.086957   \n",
              "1                                      0.397725               0.064468   \n",
              "2                                      0.406580               0.014993   \n",
              "3                                      0.397925               0.089955   \n",
              "4                                      0.400079               0.175412   \n",
              "\n",
              "    Accounts Receivable Turnover  ...   Net Worth Turnover Rate (times)  \\\n",
              "0                       0.001814  ...                          0.032903   \n",
              "1                       0.001286  ...                          0.025484   \n",
              "2                       0.001495  ...                          0.013387   \n",
              "3                       0.001966  ...                          0.028065   \n",
              "4                       0.001449  ...                          0.040161   \n",
              "\n",
              "    Revenue per person   Operating profit per person  \\\n",
              "0             0.034164                      0.392913   \n",
              "1             0.006889                      0.391590   \n",
              "2             0.028997                      0.381968   \n",
              "3             0.015463                      0.378497   \n",
              "4             0.058111                      0.394371   \n",
              "\n",
              "    Allocation rate per person   Working Capital to Total Assets  \\\n",
              "0                     0.037135                          0.672775   \n",
              "1                     0.012335                          0.751111   \n",
              "2                     0.141016                          0.829502   \n",
              "3                     0.021320                          0.725754   \n",
              "4                     0.023988                          0.751822   \n",
              "\n",
              "    Quick Assets/Total Assets   Current Assets/Total Assets  \\\n",
              "0                    0.166673                      0.190643   \n",
              "1                    0.127236                      0.182419   \n",
              "2                    0.340201                      0.602806   \n",
              "3                    0.161575                      0.225815   \n",
              "4                    0.260330                      0.358380   \n",
              "\n",
              "    Cash/Total Assets   Quick Assets/Current Liability  \\\n",
              "0            0.004094                         0.001997   \n",
              "1            0.014948                         0.004136   \n",
              "2            0.000991                         0.006302   \n",
              "3            0.018851                         0.002961   \n",
              "4            0.014161                         0.004275   \n",
              "\n",
              "    Cash/Current Liability   Current Liability to Assets  \\\n",
              "0             1.473360e-04                      0.147308   \n",
              "1             1.383910e-03                      0.056963   \n",
              "2             5.340000e+09                      0.098162   \n",
              "3             1.010646e-03                      0.098715   \n",
              "4             6.804636e-04                      0.110195   \n",
              "\n",
              "    Operating Funds to Liability   Inventory/Working Capital  \\\n",
              "0                       0.334015                    0.276920   \n",
              "1                       0.341106                    0.289642   \n",
              "2                       0.336731                    0.277456   \n",
              "3                       0.348716                    0.276580   \n",
              "4                       0.344639                    0.287913   \n",
              "\n",
              "    Inventory/Current Liability   Current Liabilities/Liability  \\\n",
              "0                      0.001036                        0.676269   \n",
              "1                      0.005210                        0.308589   \n",
              "2                      0.013879                        0.446027   \n",
              "3                      0.003540                        0.615848   \n",
              "4                      0.004869                        0.975007   \n",
              "\n",
              "    Working Capital/Equity   Current Liabilities/Equity  \\\n",
              "0                 0.721275                     0.339077   \n",
              "1                 0.731975                     0.329740   \n",
              "2                 0.742729                     0.334777   \n",
              "3                 0.729825                     0.331509   \n",
              "4                 0.732000                     0.330726   \n",
              "\n",
              "    Long-term Liability to Current Assets   Retained Earnings to Total Assets  \\\n",
              "0                                0.025592                            0.903225   \n",
              "1                                0.023947                            0.931065   \n",
              "2                                0.003715                            0.909903   \n",
              "3                                0.022165                            0.906902   \n",
              "4                                0.000000                            0.913850   \n",
              "\n",
              "    Total income/Total expense   Total expense/Assets  \\\n",
              "0                     0.002022               0.064856   \n",
              "1                     0.002226               0.025516   \n",
              "2                     0.002060               0.021387   \n",
              "3                     0.001831               0.024161   \n",
              "4                     0.002224               0.026385   \n",
              "\n",
              "    Current Asset Turnover Rate   Quick Asset Turnover Rate  \\\n",
              "0                  7.010000e+08                6.550000e+09   \n",
              "1                  1.065198e-04                7.700000e+09   \n",
              "2                  1.791094e-03                1.022676e-03   \n",
              "3                  8.140000e+09                6.050000e+09   \n",
              "4                  6.680000e+09                5.050000e+09   \n",
              "\n",
              "    Working capitcal Turnover Rate   Cash Turnover Rate   Cash Flow to Sales  \\\n",
              "0                         0.593831         4.580000e+08             0.671568   \n",
              "1                         0.593916         2.490000e+09             0.671570   \n",
              "2                         0.594502         7.610000e+08             0.671571   \n",
              "3                         0.593889         2.030000e+09             0.671519   \n",
              "4                         0.593915         8.240000e+08             0.671563   \n",
              "\n",
              "    Fixed Assets to Assets   Current Liability to Liability  \\\n",
              "0                 0.424206                         0.676269   \n",
              "1                 0.468828                         0.308589   \n",
              "2                 0.276179                         0.446027   \n",
              "3                 0.559144                         0.615848   \n",
              "4                 0.309555                         0.975007   \n",
              "\n",
              "    Current Liability to Equity   Equity to Long-term Liability  \\\n",
              "0                      0.339077                        0.126549   \n",
              "1                      0.329740                        0.120916   \n",
              "2                      0.334777                        0.117922   \n",
              "3                      0.331509                        0.120760   \n",
              "4                      0.330726                        0.110933   \n",
              "\n",
              "    Cash Flow to Total Assets   Cash Flow to Liability   CFO to Assets  \\\n",
              "0                    0.637555                 0.458609        0.520382   \n",
              "1                    0.641100                 0.459001        0.567101   \n",
              "2                    0.642765                 0.459254        0.538491   \n",
              "3                    0.579039                 0.448518        0.604105   \n",
              "4                    0.622374                 0.454411        0.578469   \n",
              "\n",
              "    Cash Flow to Equity   Current Liability to Current Assets  \\\n",
              "0              0.312905                              0.118250   \n",
              "1              0.314163                              0.047775   \n",
              "2              0.314515                              0.025346   \n",
              "3              0.302382                              0.067250   \n",
              "4              0.311567                              0.047725   \n",
              "\n",
              "    Liability-Assets Flag   Net Income to Total Assets  \\\n",
              "0                       0                     0.716845   \n",
              "1                       0                     0.795297   \n",
              "2                       0                     0.774670   \n",
              "3                       0                     0.739555   \n",
              "4                       0                     0.795016   \n",
              "\n",
              "    Total assets to GNP price   No-credit Interval   Gross Profit to Sales  \\\n",
              "0                    0.009219             0.622879                0.601453   \n",
              "1                    0.008323             0.623652                0.610237   \n",
              "2                    0.040003             0.623841                0.601449   \n",
              "3                    0.003252             0.622929                0.583538   \n",
              "4                    0.003878             0.623521                0.598782   \n",
              "\n",
              "    Net Income to Stockholder's Equity   Liability to Equity  \\\n",
              "0                             0.827890              0.290202   \n",
              "1                             0.839969              0.283846   \n",
              "2                             0.836774              0.290189   \n",
              "3                             0.834697              0.281721   \n",
              "4                             0.839973              0.278514   \n",
              "\n",
              "    Degree of Financial Leverage (DFL)  \\\n",
              "0                             0.026601   \n",
              "1                             0.264577   \n",
              "2                             0.026555   \n",
              "3                             0.026697   \n",
              "4                             0.024752   \n",
              "\n",
              "    Interest Coverage Ratio (Interest expense to EBIT)   Net Income Flag  \\\n",
              "0                                           0.564050                   1   \n",
              "1                                           0.570175                   1   \n",
              "2                                           0.563706                   1   \n",
              "3                                           0.564663                   1   \n",
              "4                                           0.575617                   1   \n",
              "\n",
              "    Equity to Liability  \n",
              "0              0.016469  \n",
              "1              0.020794  \n",
              "2              0.016474  \n",
              "3              0.023982  \n",
              "4              0.035490  \n",
              "\n",
              "[5 rows x 95 columns]"
            ]
          },
          "metadata": {},
          "execution_count": 13
        }
      ]
    },
    {
      "cell_type": "code",
      "metadata": {
        "id": "Z2GEPlxgbiT5"
      },
      "source": [
        ""
      ],
      "execution_count": 13,
      "outputs": []
    },
    {
      "cell_type": "markdown",
      "metadata": {
        "id": "Ot78-nysbjYa"
      },
      "source": [
        "### <b>Outlier Detection</b>"
      ]
    },
    {
      "cell_type": "code",
      "metadata": {
        "id": "oUMaN9aBUA1q"
      },
      "source": [
        "# Detecting outliers using IQR\n",
        "Q1 = original_data.quantile(0.25)\n",
        "Q3 = original_data.quantile(0.75)\n",
        "IQR = Q3 - Q1"
      ],
      "execution_count": 14,
      "outputs": []
    },
    {
      "cell_type": "code",
      "metadata": {
        "colab": {
          "base_uri": "https://localhost:8080/"
        },
        "id": "MPyE105PU9Es",
        "outputId": "7fac4187-6f13-4897-f6ef-b926485eef56"
      },
      "source": [
        "#seprate dataframes for outliers and inliers\n",
        "outlier_df = original_data[~((original_data < (Q1 - 1.5 * IQR)) |(original_data > (Q3 + 1.5 * IQR))).any(axis=1)]\n",
        "inlier_df = original_data[((original_data < (Q1 - 1.5 * IQR)) |(original_data > (Q3 + 1.5 * IQR))).any(axis=1)]\n",
        "print('outliers detected: ',outlier_df.shape[0])\n",
        "print('inliers remanining: ',inlier_df.shape[0])"
      ],
      "execution_count": 15,
      "outputs": [
        {
          "output_type": "stream",
          "name": "stdout",
          "text": [
            "outliers detected:  457\n",
            "inliers remanining:  6362\n"
          ]
        }
      ]
    },
    {
      "cell_type": "code",
      "metadata": {
        "colab": {
          "base_uri": "https://localhost:8080/"
        },
        "id": "HE7SxEL9BuTE",
        "outputId": "b2a45258-66e0-45bd-c598-ad88bfe9e7cb"
      },
      "source": [
        "# positive obesrvations are not part of the outliers\n",
        "p(outlier_df['Bankrupt?'].value_counts())\n",
        "p(inlier_df['Bankrupt?'].value_counts())"
      ],
      "execution_count": 16,
      "outputs": [
        {
          "output_type": "stream",
          "name": "stdout",
          "text": [
            "0    457\n",
            "Name: Bankrupt?, dtype: int64\n",
            "0    6142\n",
            "1     220\n",
            "Name: Bankrupt?, dtype: int64\n"
          ]
        }
      ]
    },
    {
      "cell_type": "markdown",
      "metadata": {
        "id": "Zxjh4P0rbbBl"
      },
      "source": [
        "Removing outliers using IQR is only removing non-bankrupt companies which are in overwhelmingly large numbers hence we don't loose much data here."
      ]
    },
    {
      "cell_type": "code",
      "metadata": {
        "colab": {
          "base_uri": "https://localhost:8080/"
        },
        "id": "I3JB7Iwhbg1q",
        "outputId": "b465b568-19c2-449d-e5e2-d4920e28fc60"
      },
      "source": [
        "# Selecting only inlier variables for both input and output\n",
        "x= inlier_df.iloc[:,1:]\n",
        "y = inlier_df.iloc[:,:1]\n",
        "x.shape,y.shape"
      ],
      "execution_count": 17,
      "outputs": [
        {
          "output_type": "execute_result",
          "data": {
            "text/plain": [
              "((6362, 95), (6362, 1))"
            ]
          },
          "metadata": {},
          "execution_count": 17
        }
      ]
    },
    {
      "cell_type": "markdown",
      "metadata": {
        "id": "lIWjMs_UbTef"
      },
      "source": [
        "###<b>Observations based on first inspection:</b>\n",
        "* Dataset contains '6819' companies that have been analysed for bankruptcy in the past. The dataset is pretty clean in terms of the presence of any null values or any categorical variables.\n",
        "* There is a severe class imbalance in the data which is pretty much expected of such problems.\n",
        "* There is a presence of outliers in the data which indicates that there are companies which have extreme values in certain features.\n",
        "* Number of features in the data is '95' which is quite large hence feature selection becomes pertinent.\n",
        "\n",
        "\n"
      ]
    },
    {
      "cell_type": "markdown",
      "metadata": {
        "id": "fhIbxeNy7NYl"
      },
      "source": [
        "##Feature Selection"
      ]
    },
    {
      "cell_type": "markdown",
      "metadata": {
        "id": "A6MF6QD3ozLy"
      },
      "source": [
        "###<b>Applying PCA for dimensionality reduction</b>"
      ]
    },
    {
      "cell_type": "code",
      "metadata": {
        "colab": {
          "base_uri": "https://localhost:8080/"
        },
        "id": "GaWpJy5fom9Z",
        "outputId": "88dbed1f-5a1d-4875-db7c-65812e0cae84"
      },
      "source": [
        "from sklearn.decomposition import PCA\n",
        "pca = PCA(n_components=30)\n",
        "pca.fit(x)\n",
        "print(pca.explained_variance_ratio_)"
      ],
      "execution_count": 90,
      "outputs": [
        {
          "output_type": "stream",
          "name": "stdout",
          "text": [
            "[2.26992706e-01 1.47736947e-01 1.26862772e-01 1.20811154e-01\n",
            " 1.10556759e-01 9.00655980e-02 8.61833735e-02 6.91788668e-02\n",
            " 4.97642591e-03 4.78375637e-03 3.84303066e-03 2.11448265e-03\n",
            " 1.27990042e-03 1.10580830e-03 9.66839164e-04 8.54294363e-04\n",
            " 4.37078324e-04 4.17697287e-04 2.75903894e-04 1.90083232e-04\n",
            " 1.70963457e-04 1.45885299e-04 3.33161674e-05 1.63570717e-05\n",
            " 1.60369869e-21 5.67342686e-22 3.26587182e-22 2.62368002e-22\n",
            " 1.73972102e-22 1.13123287e-22]\n"
          ]
        }
      ]
    },
    {
      "cell_type": "markdown",
      "metadata": {
        "id": "YZfLINqfouv2"
      },
      "source": [
        "Variances explained by each of the feature is very miniscule, using pca in such a case doesn't make much sense."
      ]
    },
    {
      "cell_type": "markdown",
      "metadata": {
        "id": "rW84Rvj9BaJq"
      },
      "source": [
        "###<b>Manually removing certain features</b>"
      ]
    },
    {
      "cell_type": "code",
      "metadata": {
        "colab": {
          "base_uri": "https://localhost:8080/"
        },
        "id": "h8AcPPG7F4R2",
        "outputId": "983d5b44-79b1-43fb-a41e-af46a3cfce49"
      },
      "source": [
        "# Analyse bottom two features two see what constant features are\n",
        "p(x[' Net Income Flag'].value_counts())\n",
        "p(x[' Liability-Assets Flag'].value_counts())"
      ],
      "execution_count": 19,
      "outputs": [
        {
          "output_type": "stream",
          "name": "stdout",
          "text": [
            "1    6362\n",
            "Name:  Net Income Flag, dtype: int64\n",
            "0    6354\n",
            "1       8\n",
            "Name:  Liability-Assets Flag, dtype: int64\n"
          ]
        }
      ]
    },
    {
      "cell_type": "code",
      "metadata": {
        "id": "UGdhRqG2Hr-2"
      },
      "source": [
        "# # Drop Net Income Flag col\n",
        "# x.drop([' Net Income Flag',' Liability-Assets Flag'],axis = 1,inplace= True)\n"
      ],
      "execution_count": 20,
      "outputs": []
    },
    {
      "cell_type": "markdown",
      "metadata": {
        "id": "GrffsoEsH5p2"
      },
      "source": [
        "we can drop these feature since one of these has only 1 value throughout and the other is severely imbalanced but these are the kind of features that we will be removing using Variance Threshold"
      ]
    },
    {
      "cell_type": "markdown",
      "metadata": {
        "id": "9glG-VIzpIVj"
      },
      "source": [
        "###<b>Using Information gain</b>"
      ]
    },
    {
      "cell_type": "code",
      "metadata": {
        "id": "gjyaEMU1OkRy"
      },
      "source": [
        "# Feature importances using information gain\n",
        "from sklearn.feature_selection import mutual_info_classif\n",
        "importances = mutual_info_classif(x,y)"
      ],
      "execution_count": 21,
      "outputs": []
    },
    {
      "cell_type": "code",
      "metadata": {
        "id": "PGVx9rm1RJ9u",
        "colab": {
          "base_uri": "https://localhost:8080/",
          "height": 987
        },
        "outputId": "b77c34ff-a785-40b9-eccd-85df7175a1c4"
      },
      "source": [
        "# create importances dataframe\n",
        "feature_importance_IG = pd.concat([pd.DataFrame(x.columns),pd.DataFrame(importances)],axis=1)\n",
        "feature_importance_IG.columns = ['Features','Importances']\n",
        "feature_importance_IG = feature_importance_IG.sort_values(by='Importances',ascending=False)\n",
        "# Top 40 important features\n",
        "feature_importance_IG = feature_importance_IG.head(30)\n",
        "feature_importance_IG"
      ],
      "execution_count": 22,
      "outputs": [
        {
          "output_type": "execute_result",
          "data": {
            "text/html": [
              "<div>\n",
              "<style scoped>\n",
              "    .dataframe tbody tr th:only-of-type {\n",
              "        vertical-align: middle;\n",
              "    }\n",
              "\n",
              "    .dataframe tbody tr th {\n",
              "        vertical-align: top;\n",
              "    }\n",
              "\n",
              "    .dataframe thead th {\n",
              "        text-align: right;\n",
              "    }\n",
              "</style>\n",
              "<table border=\"1\" class=\"dataframe\">\n",
              "  <thead>\n",
              "    <tr style=\"text-align: right;\">\n",
              "      <th></th>\n",
              "      <th>Features</th>\n",
              "      <th>Importances</th>\n",
              "    </tr>\n",
              "  </thead>\n",
              "  <tbody>\n",
              "    <tr>\n",
              "      <th>18</th>\n",
              "      <td>Persistent EPS in the Last Four Seasons</td>\n",
              "      <td>0.043014</td>\n",
              "    </tr>\n",
              "    <tr>\n",
              "      <th>89</th>\n",
              "      <td>Net Income to Stockholder's Equity</td>\n",
              "      <td>0.041286</td>\n",
              "    </tr>\n",
              "    <tr>\n",
              "      <th>39</th>\n",
              "      <td>Borrowing dependency</td>\n",
              "      <td>0.040575</td>\n",
              "    </tr>\n",
              "    <tr>\n",
              "      <th>42</th>\n",
              "      <td>Net profit before tax/Paid-in capital</td>\n",
              "      <td>0.040526</td>\n",
              "    </tr>\n",
              "    <tr>\n",
              "      <th>22</th>\n",
              "      <td>Per Share Net profit before tax (Yuan ¥)</td>\n",
              "      <td>0.038914</td>\n",
              "    </tr>\n",
              "    <tr>\n",
              "      <th>1</th>\n",
              "      <td>ROA(A) before interest and % after tax</td>\n",
              "      <td>0.037983</td>\n",
              "    </tr>\n",
              "    <tr>\n",
              "      <th>85</th>\n",
              "      <td>Net Income to Total Assets</td>\n",
              "      <td>0.037722</td>\n",
              "    </tr>\n",
              "    <tr>\n",
              "      <th>37</th>\n",
              "      <td>Net worth/Assets</td>\n",
              "      <td>0.036828</td>\n",
              "    </tr>\n",
              "    <tr>\n",
              "      <th>9</th>\n",
              "      <td>Continuous interest rate (after tax)</td>\n",
              "      <td>0.035611</td>\n",
              "    </tr>\n",
              "    <tr>\n",
              "      <th>36</th>\n",
              "      <td>Debt ratio %</td>\n",
              "      <td>0.035436</td>\n",
              "    </tr>\n",
              "    <tr>\n",
              "      <th>34</th>\n",
              "      <td>Interest Expense Ratio</td>\n",
              "      <td>0.035314</td>\n",
              "    </tr>\n",
              "    <tr>\n",
              "      <th>94</th>\n",
              "      <td>Equity to Liability</td>\n",
              "      <td>0.034919</td>\n",
              "    </tr>\n",
              "    <tr>\n",
              "      <th>90</th>\n",
              "      <td>Liability to Equity</td>\n",
              "      <td>0.034188</td>\n",
              "    </tr>\n",
              "    <tr>\n",
              "      <th>92</th>\n",
              "      <td>Interest Coverage Ratio (Interest expense to ...</td>\n",
              "      <td>0.033792</td>\n",
              "    </tr>\n",
              "    <tr>\n",
              "      <th>35</th>\n",
              "      <td>Total debt/Total net worth</td>\n",
              "      <td>0.033714</td>\n",
              "    </tr>\n",
              "    <tr>\n",
              "      <th>67</th>\n",
              "      <td>Retained Earnings to Total Assets</td>\n",
              "      <td>0.033357</td>\n",
              "    </tr>\n",
              "    <tr>\n",
              "      <th>91</th>\n",
              "      <td>Degree of Financial Leverage (DFL)</td>\n",
              "      <td>0.033144</td>\n",
              "    </tr>\n",
              "    <tr>\n",
              "      <th>0</th>\n",
              "      <td>ROA(C) before interest and depreciation befor...</td>\n",
              "      <td>0.032329</td>\n",
              "    </tr>\n",
              "    <tr>\n",
              "      <th>15</th>\n",
              "      <td>Net Value Per Share (B)</td>\n",
              "      <td>0.031601</td>\n",
              "    </tr>\n",
              "    <tr>\n",
              "      <th>68</th>\n",
              "      <td>Total income/Total expense</td>\n",
              "      <td>0.031380</td>\n",
              "    </tr>\n",
              "    <tr>\n",
              "      <th>2</th>\n",
              "      <td>ROA(B) before interest and depreciation after...</td>\n",
              "      <td>0.031326</td>\n",
              "    </tr>\n",
              "    <tr>\n",
              "      <th>16</th>\n",
              "      <td>Net Value Per Share (A)</td>\n",
              "      <td>0.031206</td>\n",
              "    </tr>\n",
              "    <tr>\n",
              "      <th>17</th>\n",
              "      <td>Net Value Per Share (C)</td>\n",
              "      <td>0.030004</td>\n",
              "    </tr>\n",
              "    <tr>\n",
              "      <th>7</th>\n",
              "      <td>After-tax net Interest Rate</td>\n",
              "      <td>0.029848</td>\n",
              "    </tr>\n",
              "    <tr>\n",
              "      <th>6</th>\n",
              "      <td>Pre-tax net Interest Rate</td>\n",
              "      <td>0.029678</td>\n",
              "    </tr>\n",
              "    <tr>\n",
              "      <th>8</th>\n",
              "      <td>Non-industry income and expenditure/revenue</td>\n",
              "      <td>0.028071</td>\n",
              "    </tr>\n",
              "    <tr>\n",
              "      <th>65</th>\n",
              "      <td>Current Liabilities/Equity</td>\n",
              "      <td>0.026522</td>\n",
              "    </tr>\n",
              "    <tr>\n",
              "      <th>77</th>\n",
              "      <td>Current Liability to Equity</td>\n",
              "      <td>0.026522</td>\n",
              "    </tr>\n",
              "    <tr>\n",
              "      <th>14</th>\n",
              "      <td>Tax rate (A)</td>\n",
              "      <td>0.024206</td>\n",
              "    </tr>\n",
              "    <tr>\n",
              "      <th>53</th>\n",
              "      <td>Working Capital to Total Assets</td>\n",
              "      <td>0.024136</td>\n",
              "    </tr>\n",
              "  </tbody>\n",
              "</table>\n",
              "</div>"
            ],
            "text/plain": [
              "                                             Features  Importances\n",
              "18            Persistent EPS in the Last Four Seasons     0.043014\n",
              "89                 Net Income to Stockholder's Equity     0.041286\n",
              "39                               Borrowing dependency     0.040575\n",
              "42              Net profit before tax/Paid-in capital     0.040526\n",
              "22           Per Share Net profit before tax (Yuan ¥)     0.038914\n",
              "1              ROA(A) before interest and % after tax     0.037983\n",
              "85                         Net Income to Total Assets     0.037722\n",
              "37                                   Net worth/Assets     0.036828\n",
              "9                Continuous interest rate (after tax)     0.035611\n",
              "36                                       Debt ratio %     0.035436\n",
              "34                             Interest Expense Ratio     0.035314\n",
              "94                                Equity to Liability     0.034919\n",
              "90                                Liability to Equity     0.034188\n",
              "92   Interest Coverage Ratio (Interest expense to ...     0.033792\n",
              "35                         Total debt/Total net worth     0.033714\n",
              "67                  Retained Earnings to Total Assets     0.033357\n",
              "91                 Degree of Financial Leverage (DFL)     0.033144\n",
              "0    ROA(C) before interest and depreciation befor...     0.032329\n",
              "15                            Net Value Per Share (B)     0.031601\n",
              "68                         Total income/Total expense     0.031380\n",
              "2    ROA(B) before interest and depreciation after...     0.031326\n",
              "16                            Net Value Per Share (A)     0.031206\n",
              "17                            Net Value Per Share (C)     0.030004\n",
              "7                         After-tax net Interest Rate     0.029848\n",
              "6                           Pre-tax net Interest Rate     0.029678\n",
              "8         Non-industry income and expenditure/revenue     0.028071\n",
              "65                         Current Liabilities/Equity     0.026522\n",
              "77                        Current Liability to Equity     0.026522\n",
              "14                                       Tax rate (A)     0.024206\n",
              "53                    Working Capital to Total Assets     0.024136"
            ]
          },
          "metadata": {},
          "execution_count": 22
        }
      ]
    },
    {
      "cell_type": "code",
      "metadata": {
        "id": "XcBCRs3FRXZm"
      },
      "source": [
        "feature_list = feature_importance_IG.Features.tolist()"
      ],
      "execution_count": 24,
      "outputs": []
    },
    {
      "cell_type": "markdown",
      "metadata": {
        "id": "Y6cX1Uw0paJz"
      },
      "source": [
        "###<b>Using Random Forest<b/>"
      ]
    },
    {
      "cell_type": "code",
      "metadata": {
        "id": "YMy-U0whVKLM"
      },
      "source": [
        "# Use RF classifier\n",
        "rf = RandomForestClassifier(n_estimators=200,criterion='gini',class_weight='balanced',random_state= 21,n_jobs=-1)"
      ],
      "execution_count": 25,
      "outputs": []
    },
    {
      "cell_type": "code",
      "metadata": {
        "colab": {
          "base_uri": "https://localhost:8080/"
        },
        "id": "IIxu-OEWVztS",
        "outputId": "5982a8ed-9163-4350-dd3d-44b2f5a1d149"
      },
      "source": [
        "rf.fit(x,y)"
      ],
      "execution_count": 26,
      "outputs": [
        {
          "output_type": "execute_result",
          "data": {
            "text/plain": [
              "RandomForestClassifier(bootstrap=True, ccp_alpha=0.0, class_weight='balanced',\n",
              "                       criterion='gini', max_depth=None, max_features='auto',\n",
              "                       max_leaf_nodes=None, max_samples=None,\n",
              "                       min_impurity_decrease=0.0, min_impurity_split=None,\n",
              "                       min_samples_leaf=1, min_samples_split=2,\n",
              "                       min_weight_fraction_leaf=0.0, n_estimators=200,\n",
              "                       n_jobs=-1, oob_score=False, random_state=21, verbose=0,\n",
              "                       warm_start=False)"
            ]
          },
          "metadata": {},
          "execution_count": 26
        }
      ]
    },
    {
      "cell_type": "code",
      "metadata": {
        "id": "xdOZBI2CV7-K",
        "colab": {
          "base_uri": "https://localhost:8080/"
        },
        "outputId": "a821c46b-f696-4927-9009-729c8a53a98e"
      },
      "source": [
        "imp_df = pd.DataFrame(rf.feature_importances_)\n",
        "imp_df.shape"
      ],
      "execution_count": 27,
      "outputs": [
        {
          "output_type": "execute_result",
          "data": {
            "text/plain": [
              "(95, 1)"
            ]
          },
          "metadata": {},
          "execution_count": 27
        }
      ]
    },
    {
      "cell_type": "code",
      "metadata": {
        "colab": {
          "base_uri": "https://localhost:8080/",
          "height": 987
        },
        "id": "AfPF4ZGyL0DR",
        "outputId": "acbde9ce-fc2c-440d-fca3-ea5875ca278f"
      },
      "source": [
        "feature_imp_RF = pd.concat([pd.DataFrame(x.columns),imp_df],axis=1)\n",
        "feature_imp_RF.columns=['features','imp']\n",
        "feature_imp_RF = feature_imp_RF.sort_values(by='imp',ascending=False)\n",
        "feature_imp_RF = feature_imp_RF.head(30)\n",
        "feature_imp_RF"
      ],
      "execution_count": 28,
      "outputs": [
        {
          "output_type": "execute_result",
          "data": {
            "text/html": [
              "<div>\n",
              "<style scoped>\n",
              "    .dataframe tbody tr th:only-of-type {\n",
              "        vertical-align: middle;\n",
              "    }\n",
              "\n",
              "    .dataframe tbody tr th {\n",
              "        vertical-align: top;\n",
              "    }\n",
              "\n",
              "    .dataframe thead th {\n",
              "        text-align: right;\n",
              "    }\n",
              "</style>\n",
              "<table border=\"1\" class=\"dataframe\">\n",
              "  <thead>\n",
              "    <tr style=\"text-align: right;\">\n",
              "      <th></th>\n",
              "      <th>features</th>\n",
              "      <th>imp</th>\n",
              "    </tr>\n",
              "  </thead>\n",
              "  <tbody>\n",
              "    <tr>\n",
              "      <th>39</th>\n",
              "      <td>Borrowing dependency</td>\n",
              "      <td>0.045272</td>\n",
              "    </tr>\n",
              "    <tr>\n",
              "      <th>18</th>\n",
              "      <td>Persistent EPS in the Last Four Seasons</td>\n",
              "      <td>0.042815</td>\n",
              "    </tr>\n",
              "    <tr>\n",
              "      <th>94</th>\n",
              "      <td>Equity to Liability</td>\n",
              "      <td>0.036783</td>\n",
              "    </tr>\n",
              "    <tr>\n",
              "      <th>22</th>\n",
              "      <td>Per Share Net profit before tax (Yuan ¥)</td>\n",
              "      <td>0.036369</td>\n",
              "    </tr>\n",
              "    <tr>\n",
              "      <th>35</th>\n",
              "      <td>Total debt/Total net worth</td>\n",
              "      <td>0.032583</td>\n",
              "    </tr>\n",
              "    <tr>\n",
              "      <th>33</th>\n",
              "      <td>Quick Ratio</td>\n",
              "      <td>0.031312</td>\n",
              "    </tr>\n",
              "    <tr>\n",
              "      <th>9</th>\n",
              "      <td>Continuous interest rate (after tax)</td>\n",
              "      <td>0.030773</td>\n",
              "    </tr>\n",
              "    <tr>\n",
              "      <th>85</th>\n",
              "      <td>Net Income to Total Assets</td>\n",
              "      <td>0.029691</td>\n",
              "    </tr>\n",
              "    <tr>\n",
              "      <th>67</th>\n",
              "      <td>Retained Earnings to Total Assets</td>\n",
              "      <td>0.029333</td>\n",
              "    </tr>\n",
              "    <tr>\n",
              "      <th>68</th>\n",
              "      <td>Total income/Total expense</td>\n",
              "      <td>0.027925</td>\n",
              "    </tr>\n",
              "    <tr>\n",
              "      <th>36</th>\n",
              "      <td>Debt ratio %</td>\n",
              "      <td>0.026184</td>\n",
              "    </tr>\n",
              "    <tr>\n",
              "      <th>8</th>\n",
              "      <td>Non-industry income and expenditure/revenue</td>\n",
              "      <td>0.024903</td>\n",
              "    </tr>\n",
              "    <tr>\n",
              "      <th>37</th>\n",
              "      <td>Net worth/Assets</td>\n",
              "      <td>0.023755</td>\n",
              "    </tr>\n",
              "    <tr>\n",
              "      <th>0</th>\n",
              "      <td>ROA(C) before interest and depreciation befor...</td>\n",
              "      <td>0.023720</td>\n",
              "    </tr>\n",
              "    <tr>\n",
              "      <th>89</th>\n",
              "      <td>Net Income to Stockholder's Equity</td>\n",
              "      <td>0.023008</td>\n",
              "    </tr>\n",
              "    <tr>\n",
              "      <th>29</th>\n",
              "      <td>Net Value Growth Rate</td>\n",
              "      <td>0.022739</td>\n",
              "    </tr>\n",
              "    <tr>\n",
              "      <th>7</th>\n",
              "      <td>After-tax net Interest Rate</td>\n",
              "      <td>0.022727</td>\n",
              "    </tr>\n",
              "    <tr>\n",
              "      <th>42</th>\n",
              "      <td>Net profit before tax/Paid-in capital</td>\n",
              "      <td>0.022572</td>\n",
              "    </tr>\n",
              "    <tr>\n",
              "      <th>34</th>\n",
              "      <td>Interest Expense Ratio</td>\n",
              "      <td>0.019367</td>\n",
              "    </tr>\n",
              "    <tr>\n",
              "      <th>1</th>\n",
              "      <td>ROA(A) before interest and % after tax</td>\n",
              "      <td>0.017871</td>\n",
              "    </tr>\n",
              "    <tr>\n",
              "      <th>2</th>\n",
              "      <td>ROA(B) before interest and depreciation after...</td>\n",
              "      <td>0.017462</td>\n",
              "    </tr>\n",
              "    <tr>\n",
              "      <th>6</th>\n",
              "      <td>Pre-tax net Interest Rate</td>\n",
              "      <td>0.015808</td>\n",
              "    </tr>\n",
              "    <tr>\n",
              "      <th>91</th>\n",
              "      <td>Degree of Financial Leverage (DFL)</td>\n",
              "      <td>0.014910</td>\n",
              "    </tr>\n",
              "    <tr>\n",
              "      <th>92</th>\n",
              "      <td>Interest Coverage Ratio (Interest expense to ...</td>\n",
              "      <td>0.012348</td>\n",
              "    </tr>\n",
              "    <tr>\n",
              "      <th>13</th>\n",
              "      <td>Interest-bearing debt interest rate</td>\n",
              "      <td>0.011819</td>\n",
              "    </tr>\n",
              "    <tr>\n",
              "      <th>90</th>\n",
              "      <td>Liability to Equity</td>\n",
              "      <td>0.011501</td>\n",
              "    </tr>\n",
              "    <tr>\n",
              "      <th>15</th>\n",
              "      <td>Net Value Per Share (B)</td>\n",
              "      <td>0.010617</td>\n",
              "    </tr>\n",
              "    <tr>\n",
              "      <th>61</th>\n",
              "      <td>Inventory/Working Capital</td>\n",
              "      <td>0.009769</td>\n",
              "    </tr>\n",
              "    <tr>\n",
              "      <th>52</th>\n",
              "      <td>Allocation rate per person</td>\n",
              "      <td>0.009624</td>\n",
              "    </tr>\n",
              "    <tr>\n",
              "      <th>57</th>\n",
              "      <td>Quick Assets/Current Liability</td>\n",
              "      <td>0.009522</td>\n",
              "    </tr>\n",
              "  </tbody>\n",
              "</table>\n",
              "</div>"
            ],
            "text/plain": [
              "                                             features       imp\n",
              "39                               Borrowing dependency  0.045272\n",
              "18            Persistent EPS in the Last Four Seasons  0.042815\n",
              "94                                Equity to Liability  0.036783\n",
              "22           Per Share Net profit before tax (Yuan ¥)  0.036369\n",
              "35                         Total debt/Total net worth  0.032583\n",
              "33                                        Quick Ratio  0.031312\n",
              "9                Continuous interest rate (after tax)  0.030773\n",
              "85                         Net Income to Total Assets  0.029691\n",
              "67                  Retained Earnings to Total Assets  0.029333\n",
              "68                         Total income/Total expense  0.027925\n",
              "36                                       Debt ratio %  0.026184\n",
              "8         Non-industry income and expenditure/revenue  0.024903\n",
              "37                                   Net worth/Assets  0.023755\n",
              "0    ROA(C) before interest and depreciation befor...  0.023720\n",
              "89                 Net Income to Stockholder's Equity  0.023008\n",
              "29                              Net Value Growth Rate  0.022739\n",
              "7                         After-tax net Interest Rate  0.022727\n",
              "42              Net profit before tax/Paid-in capital  0.022572\n",
              "34                             Interest Expense Ratio  0.019367\n",
              "1              ROA(A) before interest and % after tax  0.017871\n",
              "2    ROA(B) before interest and depreciation after...  0.017462\n",
              "6                           Pre-tax net Interest Rate  0.015808\n",
              "91                 Degree of Financial Leverage (DFL)  0.014910\n",
              "92   Interest Coverage Ratio (Interest expense to ...  0.012348\n",
              "13                Interest-bearing debt interest rate  0.011819\n",
              "90                                Liability to Equity  0.011501\n",
              "15                            Net Value Per Share (B)  0.010617\n",
              "61                          Inventory/Working Capital  0.009769\n",
              "52                         Allocation rate per person  0.009624\n",
              "57                     Quick Assets/Current Liability  0.009522"
            ]
          },
          "metadata": {},
          "execution_count": 28
        }
      ]
    },
    {
      "cell_type": "code",
      "metadata": {
        "id": "po7moH6OQ4kR"
      },
      "source": [
        "feature_list2 = feature_imp_RF.features.tolist()"
      ],
      "execution_count": 29,
      "outputs": []
    },
    {
      "cell_type": "markdown",
      "metadata": {
        "id": "E2O_UEManafi"
      },
      "source": [
        "###<b>Let's visualize distribution of each feature with respect to the target variable</b>"
      ]
    },
    {
      "cell_type": "code",
      "metadata": {
        "colab": {
          "base_uri": "https://localhost:8080/",
          "height": 1000
        },
        "id": "L2uw3x4mnYHw",
        "outputId": "adc6be4c-d2f3-4fa8-967e-d71d21f9dc5f"
      },
      "source": [
        "# Draw box plot for features selected using RF feature importances\n",
        "for col in feature_list2:\n",
        "  fig = plt.figure(figsize=(9, 6))\n",
        "  ax = fig.gca()\n",
        "  inlier_df.boxplot(column = col, by = 'Bankrupt?', ax = ax)\n",
        "  ax.set_ylabel(col)\n",
        "  plt.show()"
      ],
      "execution_count": 89,
      "outputs": [
        {
          "output_type": "display_data",
          "data": {
            "image/png": "[encoded data removed]",
            "text/plain": [
              "<Figure size 648x432 with 1 Axes>"
            ]
          },
          "metadata": {
            "needs_background": "light"
          }
        },
        {
          "output_type": "display_data",
          "data": {
            "image/png": "[encoded data removed]",
            "text/plain": [
              "<Figure size 648x432 with 1 Axes>"
            ]
          },
          "metadata": {
            "needs_background": "light"
          }
        },
        {
          "output_type": "display_data",
          "data": {
            "image/png": "[encoded data removed]",
            "text/plain": [
              "<Figure size 648x432 with 1 Axes>"
            ]
          },
          "metadata": {
            "needs_background": "light"
          }
        },
        {
          "output_type": "display_data",
          "data": {
            "image/png": "[encoded data removed]",
            "text/plain": [
              "<Figure size 648x432 with 1 Axes>"
            ]
          },
          "metadata": {
            "needs_background": "light"
          }
        },
        {
          "output_type": "display_data",
          "data": {
            "image/png": "[encoded data removed]",
            "text/plain": [
              "<Figure size 648x432 with 1 Axes>"
            ]
          },
          "metadata": {
            "needs_background": "light"
          }
        },
        {
          "output_type": "display_data",
          "data": {
            "image/png": "[encoded data removed]",
            "text/plain": [
              "<Figure size 648x432 with 1 Axes>"
            ]
          },
          "metadata": {
            "needs_background": "light"
          }
        },
        {
          "output_type": "display_data",
          "data": {
            "image/png": "[encoded data removed]",
            "text/plain": [
              "<Figure size 648x432 with 1 Axes>"
            ]
          },
          "metadata": {
            "needs_background": "light"
          }
        },
        {
          "output_type": "display_data",
          "data": {
            "image/png": "[encoded data removed]",
            "text/plain": [
              "<Figure size 648x432 with 1 Axes>"
            ]
          },
          "metadata": {
            "needs_background": "light"
          }
        },
        {
          "output_type": "display_data",
          "data": {
            "image/png": "[encoded data removed]",
            "text/plain": [
              "<Figure size 648x432 with 1 Axes>"
            ]
          },
          "metadata": {
            "needs_background": "light"
          }
        },
        {
          "output_type": "display_data",
          "data": {
            "image/png": "[encoded data removed]",
            "text/plain": [
              "<Figure size 648x432 with 1 Axes>"
            ]
          },
          "metadata": {
            "needs_background": "light"
          }
        },
        {
          "output_type": "display_data",
          "data": {
            "image/png": "[encoded data removed]",
            "text/plain": [
              "<Figure size 648x432 with 1 Axes>"
            ]
          },
          "metadata": {
            "needs_background": "light"
          }
        },
        {
          "output_type": "display_data",
          "data": {
            "image/png": "[encoded data removed]",
            "text/plain": [
              "<Figure size 648x432 with 1 Axes>"
            ]
          },
          "metadata": {
            "needs_background": "light"
          }
        },
        {
          "output_type": "display_data",
          "data": {
            "image/png": "[encoded data removed]",
            "text/plain": [
              "<Figure size 648x432 with 1 Axes>"
            ]
          },
          "metadata": {
            "needs_background": "light"
          }
        },
        {
          "output_type": "display_data",
          "data": {
            "image/png": "[encoded data removed]",
            "text/plain": [
              "<Figure size 648x432 with 1 Axes>"
            ]
          },
          "metadata": {
            "needs_background": "light"
          }
        },
        {
          "output_type": "display_data",
          "data": {
            "image/png": "[encoded data removed]",
            "text/plain": [
              "<Figure size 648x432 with 1 Axes>"
            ]
          },
          "metadata": {
            "needs_background": "light"
          }
        },
        {
          "output_type": "display_data",
          "data": {
            "image/png": "[encoded data removed]",
            "text/plain": [
              "<Figure size 648x432 with 1 Axes>"
            ]
          },
          "metadata": {
            "needs_background": "light"
          }
        },
        {
          "output_type": "display_data",
          "data": {
            "image/png": "[encoded data removed]",
            "text/plain": [
              "<Figure size 648x432 with 1 Axes>"
            ]
          },
          "metadata": {
            "needs_background": "light"
          }
        },
        {
          "output_type": "display_data",
          "data": {
            "image/png": "[encoded data removed]",
            "text/plain": [
              "<Figure size 648x432 with 1 Axes>"
            ]
          },
          "metadata": {
            "needs_background": "light"
          }
        },
        {
          "output_type": "display_data",
          "data": {
            "image/png": "[encoded data removed]",
            "text/plain": [
              "<Figure size 648x432 with 1 Axes>"
            ]
          },
          "metadata": {
            "needs_background": "light"
          }
        },
        {
          "output_type": "display_data",
          "data": {
            "image/png": "[encoded data removed]",
            "text/plain": [
              "<Figure size 648x432 with 1 Axes>"
            ]
          },
          "metadata": {
            "needs_background": "light"
          }
        },
        {
          "output_type": "display_data",
          "data": {
            "image/png": "[encoded data removed]",
            "text/plain": [
              "<Figure size 648x432 with 1 Axes>"
            ]
          },
          "metadata": {
            "needs_background": "light"
          }
        },
        {
          "output_type": "display_data",
          "data": {
            "image/png": "[encoded data removed]",
            "text/plain": [
              "<Figure size 648x432 with 1 Axes>"
            ]
          },
          "metadata": {
            "needs_background": "light"
          }
        },
        {
          "output_type": "display_data",
          "data": {
            "image/png": "[encoded data removed]",
            "text/plain": [
              "<Figure size 648x432 with 1 Axes>"
            ]
          },
          "metadata": {
            "needs_background": "light"
          }
        },
        {
          "output_type": "display_data",
          "data": {
            "image/png": "[encoded data removed]",
            "text/plain": [
              "<Figure size 648x432 with 1 Axes>"
            ]
          },
          "metadata": {
            "needs_background": "light"
          }
        },
        {
          "output_type": "display_data",
          "data": {
            "image/png": "[encoded data removed]",
            "text/plain": [
              "<Figure size 648x432 with 1 Axes>"
            ]
          },
          "metadata": {
            "needs_background": "light"
          }
        },
        {
          "output_type": "display_data",
          "data": {
            "image/png": "[encoded data removed]",
            "text/plain": [
              "<Figure size 648x432 with 1 Axes>"
            ]
          },
          "metadata": {
            "needs_background": "light"
          }
        },
        {
          "output_type": "display_data",
          "data": {
            "image/png": "[encoded data removed]",
            "text/plain": [
              "<Figure size 648x432 with 1 Axes>"
            ]
          },
          "metadata": {
            "needs_background": "light"
          }
        },
        {
          "output_type": "display_data",
          "data": {
            "image/png": "[encoded data removed]",
            "text/plain": [
              "<Figure size 648x432 with 1 Axes>"
            ]
          },
          "metadata": {
            "needs_background": "light"
          }
        },
        {
          "output_type": "display_data",
          "data": {
            "image/png": "[encoded data removed]",
            "text/plain": [
              "<Figure size 648x432 with 1 Axes>"
            ]
          },
          "metadata": {
            "needs_background": "light"
          }
        },
        {
          "output_type": "display_data",
          "data": {
            "image/png": "[encoded data removed]",
            "text/plain": [
              "<Figure size 648x432 with 1 Axes>"
            ]
          },
          "metadata": {
            "needs_background": "light"
          }
        }
      ]
    },
    {
      "cell_type": "markdown",
      "metadata": {
        "id": "4RLQluVVn1Pk"
      },
      "source": [
        "As we can only two or three columns have a clear relationship with the output variable, hence we can not rely on only a single technique for feature selection."
      ]
    },
    {
      "cell_type": "code",
      "metadata": {
        "id": "FVpe9tkaNwcj"
      },
      "source": [
        "# Function to check number similarity of two lists\n",
        "def list_similarity(l1,l2):\n",
        "  '''This function return the number of common elements between two given lists \n",
        "  and a list of those common elements '''\n",
        "  list_bool = []\n",
        "  for elem1 in l1:\n",
        "    for elem2 in l2: \n",
        "      if elem1==elem2:\n",
        "        list_bool.append(True)\n",
        "  print('No of commom elements= ',sum(list_bool))\n",
        "  return list(set(l1).intersection(set(l2)))"
      ],
      "execution_count": 30,
      "outputs": []
    },
    {
      "cell_type": "code",
      "metadata": {
        "colab": {
          "base_uri": "https://localhost:8080/"
        },
        "id": "Ze3-OZ-fPHqz",
        "outputId": "231b21ff-8868-450f-e3d4-d3a11c920638"
      },
      "source": [
        "# Check feature similarity between two feature lists obtained above\n",
        "similar_list = list_similarity(feature_list,feature_list2)"
      ],
      "execution_count": 31,
      "outputs": [
        {
          "output_type": "stream",
          "name": "stdout",
          "text": [
            "No of commom elements=  24\n"
          ]
        }
      ]
    },
    {
      "cell_type": "markdown",
      "metadata": {
        "id": "ggLRhdGsp6Rw"
      },
      "source": [
        "###<b>Quasi_constant features<b/>"
      ]
    },
    {
      "cell_type": "code",
      "metadata": {
        "colab": {
          "base_uri": "https://localhost:8080/"
        },
        "id": "MDV58LB9A5Aw",
        "outputId": "08151a54-4e6f-453d-ff86-3f484de834bf"
      },
      "source": [
        "# Remove constant features \n",
        "from sklearn.feature_selection import VarianceThreshold\n",
        "vt = VarianceThreshold(threshold=0.01)\n",
        "vt.fit(x)\n",
        "vt.get_support()\n",
        "sum(vt.get_support())"
      ],
      "execution_count": 32,
      "outputs": [
        {
          "output_type": "execute_result",
          "data": {
            "text/plain": [
              "31"
            ]
          },
          "metadata": {},
          "execution_count": 32
        }
      ]
    },
    {
      "cell_type": "code",
      "metadata": {
        "id": "sc9ayeb0BBNZ"
      },
      "source": [
        "# Non Quasi-constant featurs that can be used for modelling\n",
        "non_constant_feat = [col for col in x.columns if col in x.columns[vt.get_support()]]"
      ],
      "execution_count": 33,
      "outputs": []
    },
    {
      "cell_type": "code",
      "metadata": {
        "colab": {
          "base_uri": "https://localhost:8080/"
        },
        "id": "Y11jwlsNRw-r",
        "outputId": "394b78a5-5cf6-448f-c754-ef9b0c44a121"
      },
      "source": [
        "# Obtain common features from precious two feature lists\n",
        "list_similarity(feature_list2,non_constant_feat)"
      ],
      "execution_count": 34,
      "outputs": [
        {
          "output_type": "stream",
          "name": "stdout",
          "text": [
            "No of commom elements=  6\n"
          ]
        },
        {
          "output_type": "execute_result",
          "data": {
            "text/plain": [
              "[' Net Value Growth Rate',\n",
              " ' Interest-bearing debt interest rate',\n",
              " ' Allocation rate per person',\n",
              " ' Total debt/Total net worth',\n",
              " ' Quick Assets/Current Liability',\n",
              " ' Quick Ratio']"
            ]
          },
          "metadata": {},
          "execution_count": 34
        }
      ]
    },
    {
      "cell_type": "code",
      "metadata": {
        "id": "xbOmkapGSL26"
      },
      "source": [
        "# Create new input variable\n",
        "new_x =x[similar_list]"
      ],
      "execution_count": 35,
      "outputs": []
    },
    {
      "cell_type": "code",
      "metadata": {
        "id": "3BVRXGYgTpmA"
      },
      "source": [
        "# Perform train test split\n",
        "x_train,x_test,y_train,y_test = train_test_split(new_x,y,random_state = 13,test_size=0.2,stratify = y)"
      ],
      "execution_count": 36,
      "outputs": []
    },
    {
      "cell_type": "markdown",
      "metadata": {
        "id": "TgW2cTbXZf8_"
      },
      "source": [
        "###Building my first model using RF"
      ]
    },
    {
      "cell_type": "code",
      "metadata": {
        "id": "e4TULPXvU5EV"
      },
      "source": [
        "model = RandomForestClassifier(criterion='entropy',random_state=213,class_weight='balanced',n_jobs = -1)\n",
        "# Use grid search cv for cross validation\n",
        "grid= {'n_estimators':[100,200,250,300,350,400,450], 'max_depth':[3, 5, 7,10]}\n",
        "cls = GridSearchCV(estimator=model,param_grid=grid,scoring='f1',n_jobs= -1,cv = 5)"
      ],
      "execution_count": 62,
      "outputs": []
    },
    {
      "cell_type": "code",
      "metadata": {
        "colab": {
          "base_uri": "https://localhost:8080/"
        },
        "id": "iauHnP2SVEYd",
        "outputId": "342ecfbf-894a-4351-f77d-069b40b2b7f1"
      },
      "source": [
        "cls.fit(x_train,y_train)"
      ],
      "execution_count": 38,
      "outputs": [
        {
          "output_type": "execute_result",
          "data": {
            "text/plain": [
              "GridSearchCV(cv=5, error_score=nan,\n",
              "             estimator=RandomForestClassifier(bootstrap=True, ccp_alpha=0.0,\n",
              "                                              class_weight='balanced',\n",
              "                                              criterion='entropy',\n",
              "                                              max_depth=None,\n",
              "                                              max_features='auto',\n",
              "                                              max_leaf_nodes=None,\n",
              "                                              max_samples=None,\n",
              "                                              min_impurity_decrease=0.0,\n",
              "                                              min_impurity_split=None,\n",
              "                                              min_samples_leaf=1,\n",
              "                                              min_samples_split=2,\n",
              "                                              min_weight_fraction_leaf=0.0,\n",
              "                                              n_estimators=100, n_jobs=-1,\n",
              "                                              oob_score=False, random_state=213,\n",
              "                                              verbose=0, warm_start=False),\n",
              "             iid='deprecated', n_jobs=-1,\n",
              "             param_grid={'max_depth': [3, 5, 7, 10],\n",
              "                         'n_estimators': [100, 200, 250, 300, 350, 400, 450]},\n",
              "             pre_dispatch='2*n_jobs', refit=True, return_train_score=False,\n",
              "             scoring='f1', verbose=0)"
            ]
          },
          "metadata": {},
          "execution_count": 38
        }
      ]
    },
    {
      "cell_type": "code",
      "metadata": {
        "colab": {
          "base_uri": "https://localhost:8080/"
        },
        "id": "6lMQOLCoVG-j",
        "outputId": "18e3c39c-a2a2-4ba0-8ab3-0727c39929df"
      },
      "source": [
        "cls.best_score_"
      ],
      "execution_count": 39,
      "outputs": [
        {
          "output_type": "execute_result",
          "data": {
            "text/plain": [
              "0.43268961871910977"
            ]
          },
          "metadata": {},
          "execution_count": 39
        }
      ]
    },
    {
      "cell_type": "code",
      "metadata": {
        "colab": {
          "base_uri": "https://localhost:8080/"
        },
        "id": "L_tpDLnqWpa3",
        "outputId": "c8cf8bdf-4d6a-45b0-9e02-8f858f7bd93c"
      },
      "source": [
        "opt_cls = cls.best_estimator_\n",
        "opt_cls.fit(x_train,y_train)"
      ],
      "execution_count": 40,
      "outputs": [
        {
          "output_type": "execute_result",
          "data": {
            "text/plain": [
              "RandomForestClassifier(bootstrap=True, ccp_alpha=0.0, class_weight='balanced',\n",
              "                       criterion='entropy', max_depth=10, max_features='auto',\n",
              "                       max_leaf_nodes=None, max_samples=None,\n",
              "                       min_impurity_decrease=0.0, min_impurity_split=None,\n",
              "                       min_samples_leaf=1, min_samples_split=2,\n",
              "                       min_weight_fraction_leaf=0.0, n_estimators=100,\n",
              "                       n_jobs=-1, oob_score=False, random_state=213, verbose=0,\n",
              "                       warm_start=False)"
            ]
          },
          "metadata": {},
          "execution_count": 40
        }
      ]
    },
    {
      "cell_type": "code",
      "metadata": {
        "colab": {
          "base_uri": "https://localhost:8080/"
        },
        "id": "0z7boEgIYeA7",
        "outputId": "566187bd-fbaf-4b57-b99e-c1cb2d516c6a"
      },
      "source": [
        "p('Train data:\\n ',classification_report(y_train, opt_cls.predict(x_train)))\n",
        "p(\"--\"*30)\n",
        "p('Test data:\\n ',classification_report(y_test, opt_cls.predict(x_test)))"
      ],
      "execution_count": 87,
      "outputs": [
        {
          "output_type": "stream",
          "name": "stdout",
          "text": [
            "Train data:\n",
            "                precision    recall  f1-score   support\n",
            "\n",
            "           0       1.00      0.99      0.99      4913\n",
            "           1       0.73      1.00      0.84       176\n",
            "\n",
            "    accuracy                           0.99      5089\n",
            "   macro avg       0.86      0.99      0.92      5089\n",
            "weighted avg       0.99      0.99      0.99      5089\n",
            "\n",
            "------------------------------------------------------------\n",
            "Test data:\n",
            "                precision    recall  f1-score   support\n",
            "\n",
            "           0       0.98      0.98      0.98      1229\n",
            "           1       0.48      0.45      0.47        44\n",
            "\n",
            "    accuracy                           0.96      1273\n",
            "   macro avg       0.73      0.72      0.72      1273\n",
            "weighted avg       0.96      0.96      0.96      1273\n",
            "\n"
          ]
        }
      ]
    },
    {
      "cell_type": "code",
      "metadata": {
        "colab": {
          "base_uri": "https://localhost:8080/"
        },
        "id": "nxtgTd89Yu9a",
        "outputId": "9dc5de12-f5e7-41e2-d12b-2732babf332e"
      },
      "source": [
        "p('roc-auc score for test data: ',roc_auc_score(y_test, opt_cls.predict(x_test)))"
      ],
      "execution_count": 43,
      "outputs": [
        {
          "output_type": "stream",
          "name": "stdout",
          "text": [
            "roc-auc score for test data:  0.7183223611213847\n"
          ]
        }
      ]
    },
    {
      "cell_type": "markdown",
      "metadata": {
        "id": "f80GfDBaXNL3"
      },
      "source": [
        "###<b>Random Forest with SMOTE technique</b>"
      ]
    },
    {
      "cell_type": "code",
      "metadata": {
        "colab": {
          "base_uri": "https://localhost:8080/"
        },
        "id": "DUS7AvE8UUN-",
        "outputId": "f21a4b0a-cacc-4a00-c778-4a1b2a7b05f5"
      },
      "source": [
        "from imblearn.over_sampling import SMOTE\n",
        "\n",
        "smote = SMOTE()\n",
        "\n",
        "# fit predictor and target variable\n",
        "x_train_smote, y_train_smote = smote.fit_resample(x_train,y_train)\n",
        "\n",
        "print('Original tain dataset shape', len(y_train))\n",
        "print('Resampled train dataset shape', len(y_train_smote))"
      ],
      "execution_count": 63,
      "outputs": [
        {
          "output_type": "stream",
          "name": "stdout",
          "text": [
            "Original tain dataset shape 5089\n",
            "Resampled train dataset shape 9826\n"
          ]
        }
      ]
    },
    {
      "cell_type": "code",
      "metadata": {
        "colab": {
          "base_uri": "https://localhost:8080/"
        },
        "id": "GhafPRi_UUtU",
        "outputId": "df03e55c-ac5f-4a1c-8d0c-076463e03a92"
      },
      "source": [
        "# Fit the model on smote data\n",
        "cls.fit(x_train_smote,y_train_smote)"
      ],
      "execution_count": 64,
      "outputs": [
        {
          "output_type": "execute_result",
          "data": {
            "text/plain": [
              "GridSearchCV(cv=5, error_score=nan,\n",
              "             estimator=RandomForestClassifier(bootstrap=True, ccp_alpha=0.0,\n",
              "                                              class_weight='balanced',\n",
              "                                              criterion='entropy',\n",
              "                                              max_depth=None,\n",
              "                                              max_features='auto',\n",
              "                                              max_leaf_nodes=None,\n",
              "                                              max_samples=None,\n",
              "                                              min_impurity_decrease=0.0,\n",
              "                                              min_impurity_split=None,\n",
              "                                              min_samples_leaf=1,\n",
              "                                              min_samples_split=2,\n",
              "                                              min_weight_fraction_leaf=0.0,\n",
              "                                              n_estimators=100, n_jobs=-1,\n",
              "                                              oob_score=False, random_state=213,\n",
              "                                              verbose=0, warm_start=False),\n",
              "             iid='deprecated', n_jobs=-1,\n",
              "             param_grid={'max_depth': [3, 5, 7, 10],\n",
              "                         'n_estimators': [100, 200, 250, 300, 350, 400, 450]},\n",
              "             pre_dispatch='2*n_jobs', refit=True, return_train_score=False,\n",
              "             scoring='f1', verbose=0)"
            ]
          },
          "metadata": {},
          "execution_count": 64
        }
      ]
    },
    {
      "cell_type": "code",
      "metadata": {
        "id": "3AmaQa8-VIhb"
      },
      "source": [
        "# fitting the data and making predictions on best estimator\n",
        "cls.best_estimator_.fit(x_train_smote,y_train_smote)\n",
        "smote_train_preds = cls.best_estimator_.predict(x_train)\n",
        "smote_test_preds = cls.best_estimator_.predict(x_test)"
      ],
      "execution_count": 72,
      "outputs": []
    },
    {
      "cell_type": "code",
      "metadata": {
        "colab": {
          "base_uri": "https://localhost:8080/"
        },
        "id": "jWDICd-1V2Vj",
        "outputId": "6a71bb84-3b17-4f16-afb5-be0384636edf"
      },
      "source": [
        "p('Train data:\\n ',classification_report(y_train,smote_train_preds))\n",
        "p('--'*30)\n",
        "p('Test data:\\n ',classification_report(y_test,smote_test_preds))"
      ],
      "execution_count": 84,
      "outputs": [
        {
          "output_type": "stream",
          "name": "stdout",
          "text": [
            "Train data:\n",
            "                precision    recall  f1-score   support\n",
            "\n",
            "           0       1.00      0.96      0.98      4913\n",
            "           1       0.50      1.00      0.66       176\n",
            "\n",
            "    accuracy                           0.96      5089\n",
            "   macro avg       0.75      0.98      0.82      5089\n",
            "weighted avg       0.98      0.96      0.97      5089\n",
            "\n",
            "------------------------------------------------------------\n",
            "Test data:\n",
            "                precision    recall  f1-score   support\n",
            "\n",
            "           0       0.99      0.95      0.97      1229\n",
            "           1       0.32      0.68      0.43        44\n",
            "\n",
            "    accuracy                           0.94      1273\n",
            "   macro avg       0.65      0.81      0.70      1273\n",
            "weighted avg       0.96      0.94      0.95      1273\n",
            "\n"
          ]
        }
      ]
    },
    {
      "cell_type": "code",
      "metadata": {
        "colab": {
          "base_uri": "https://localhost:8080/"
        },
        "id": "nEfpVTTeXJ2d",
        "outputId": "378ffc10-0c18-4518-889a-d8978bc84f32"
      },
      "source": [
        "# ROC-AUC on test data\n",
        "p('Test roc_auc: ',roc_auc_score(y_test,smote_test_preds))"
      ],
      "execution_count": 74,
      "outputs": [
        {
          "output_type": "stream",
          "name": "stdout",
          "text": [
            "Test roc_auc:  0.8144648272801243\n"
          ]
        }
      ]
    },
    {
      "cell_type": "markdown",
      "metadata": {
        "id": "XdXGGN2KXxnM"
      },
      "source": [
        "###Let's try to get best of all feature selections"
      ]
    },
    {
      "cell_type": "code",
      "metadata": {
        "colab": {
          "base_uri": "https://localhost:8080/"
        },
        "id": "arc0U6HZZELB",
        "outputId": "e6d82f13-bfe9-49e9-bbf2-2f3590fc1e6f"
      },
      "source": [
        "# Union of Quasi-constant feature list and top features from information gain and Random Forest\n",
        "new_feat_list = list(set(non_constant_feat).union(set(similar_list)))\n",
        "len(new_feat_list)"
      ],
      "execution_count": 75,
      "outputs": [
        {
          "output_type": "execute_result",
          "data": {
            "text/plain": [
              "54"
            ]
          },
          "metadata": {},
          "execution_count": 75
        }
      ]
    },
    {
      "cell_type": "code",
      "metadata": {
        "id": "Wl8R4-pza2Iv"
      },
      "source": [
        "# Selecting only the above features from the feature space\n",
        "new_x2 = x[new_feat_list]"
      ],
      "execution_count": 76,
      "outputs": []
    },
    {
      "cell_type": "code",
      "metadata": {
        "id": "dS9i_T1QbCEf"
      },
      "source": [
        "x_train2,x_test2,y_train2,y_test2 = train_test_split(new_x2,y,random_state = 113,test_size=0.2,stratify = y)"
      ],
      "execution_count": 77,
      "outputs": []
    },
    {
      "cell_type": "code",
      "metadata": {
        "colab": {
          "base_uri": "https://localhost:8080/"
        },
        "id": "VU1a-CCQbPlS",
        "outputId": "8d1232f4-6c4c-4c50-b5ac-90b4798ad5d1"
      },
      "source": [
        "cls.fit(x_train2,y_train2)"
      ],
      "execution_count": 78,
      "outputs": [
        {
          "output_type": "execute_result",
          "data": {
            "text/plain": [
              "GridSearchCV(cv=5, error_score=nan,\n",
              "             estimator=RandomForestClassifier(bootstrap=True, ccp_alpha=0.0,\n",
              "                                              class_weight='balanced',\n",
              "                                              criterion='entropy',\n",
              "                                              max_depth=None,\n",
              "                                              max_features='auto',\n",
              "                                              max_leaf_nodes=None,\n",
              "                                              max_samples=None,\n",
              "                                              min_impurity_decrease=0.0,\n",
              "                                              min_impurity_split=None,\n",
              "                                              min_samples_leaf=1,\n",
              "                                              min_samples_split=2,\n",
              "                                              min_weight_fraction_leaf=0.0,\n",
              "                                              n_estimators=100, n_jobs=-1,\n",
              "                                              oob_score=False, random_state=213,\n",
              "                                              verbose=0, warm_start=False),\n",
              "             iid='deprecated', n_jobs=-1,\n",
              "             param_grid={'max_depth': [3, 5, 7, 10],\n",
              "                         'n_estimators': [100, 200, 250, 300, 350, 400, 450]},\n",
              "             pre_dispatch='2*n_jobs', refit=True, return_train_score=False,\n",
              "             scoring='f1', verbose=0)"
            ]
          },
          "metadata": {},
          "execution_count": 78
        }
      ]
    },
    {
      "cell_type": "code",
      "metadata": {
        "colab": {
          "base_uri": "https://localhost:8080/"
        },
        "id": "Po6agboedRrj",
        "outputId": "330e8ee9-2849-4cdb-99b0-72a3fb6e5540"
      },
      "source": [
        "best_cls = cls.best_estimator_\n",
        "best_cls.fit(x_train2,y_train2)"
      ],
      "execution_count": 93,
      "outputs": [
        {
          "output_type": "execute_result",
          "data": {
            "text/plain": [
              "RandomForestClassifier(bootstrap=True, ccp_alpha=0.0, class_weight='balanced',\n",
              "                       criterion='entropy', max_depth=7, max_features='auto',\n",
              "                       max_leaf_nodes=None, max_samples=None,\n",
              "                       min_impurity_decrease=0.0, min_impurity_split=None,\n",
              "                       min_samples_leaf=1, min_samples_split=2,\n",
              "                       min_weight_fraction_leaf=0.0, n_estimators=350,\n",
              "                       n_jobs=-1, oob_score=False, random_state=213, verbose=0,\n",
              "                       warm_start=False)"
            ]
          },
          "metadata": {},
          "execution_count": 93
        }
      ]
    },
    {
      "cell_type": "code",
      "metadata": {
        "id": "cEVT1B07duTW"
      },
      "source": [
        "# Make the predictions\n",
        "train_preds2 = best_cls.predict(x_train2)\n",
        "test_preds2 = best_cls.predict(x_test2)"
      ],
      "execution_count": 80,
      "outputs": []
    },
    {
      "cell_type": "code",
      "metadata": {
        "colab": {
          "base_uri": "https://localhost:8080/"
        },
        "id": "88SW4c0QbVMv",
        "outputId": "7186c432-efbf-4b3c-a1c3-7b3eef8ebe32"
      },
      "source": [
        "# Printing classification reports\n",
        "p('Train data:\\n ',classification_report(y_train2,train_preds2))\n",
        "p('--'*30)\n",
        "p('Test data:\\n ',classification_report(y_test2,cls.predict(x_test2)))"
      ],
      "execution_count": 83,
      "outputs": [
        {
          "output_type": "stream",
          "name": "stdout",
          "text": [
            "Train data:\n",
            "                precision    recall  f1-score   support\n",
            "\n",
            "           0       1.00      0.97      0.99      4913\n",
            "           1       0.56      1.00      0.72       176\n",
            "\n",
            "    accuracy                           0.97      5089\n",
            "   macro avg       0.78      0.99      0.85      5089\n",
            "weighted avg       0.98      0.97      0.98      5089\n",
            "\n",
            "------------------------------------------------------------\n",
            "Test data:\n",
            "                precision    recall  f1-score   support\n",
            "\n",
            "           0       0.99      0.96      0.97      1229\n",
            "           1       0.37      0.61      0.46        44\n",
            "\n",
            "    accuracy                           0.95      1273\n",
            "   macro avg       0.68      0.79      0.72      1273\n",
            "weighted avg       0.96      0.95      0.96      1273\n",
            "\n"
          ]
        }
      ]
    },
    {
      "cell_type": "code",
      "metadata": {
        "colab": {
          "base_uri": "https://localhost:8080/"
        },
        "id": "OhIhekIqd3TM",
        "outputId": "e41f0879-aef3-4148-ac73-880ac640fb50"
      },
      "source": [
        "# AUC-ROC scores\n",
        "p('roc_auc on train data: ',roc_auc_score(y_train2,train_preds2))\n",
        "p('roc_auc on train data: ',roc_auc_score(y_test2,test_preds2))"
      ],
      "execution_count": 82,
      "outputs": [
        {
          "output_type": "stream",
          "name": "stdout",
          "text": [
            "roc_auc on train data:  0.9858538571137797\n",
            "roc_auc on train data:  0.7881037798653747\n"
          ]
        }
      ]
    },
    {
      "cell_type": "code",
      "metadata": {
        "id": "XZtMHsKv-oeC"
      },
      "source": [
        "#Best results till now on feature set\n",
        "new_x2"
      ],
      "execution_count": null,
      "outputs": []
    },
    {
      "cell_type": "code",
      "metadata": {
        "colab": {
          "base_uri": "https://localhost:8080/"
        },
        "id": "uVfWFyTYeOTy",
        "outputId": "55482c25-9640-40ca-8f78-13638b267007"
      },
      "source": [
        "#Best parameters till now\n",
        "cls.best_params_"
      ],
      "execution_count": 94,
      "outputs": [
        {
          "output_type": "execute_result",
          "data": {
            "text/plain": [
              "{'max_depth': 7, 'n_estimators': 350}"
            ]
          },
          "metadata": {},
          "execution_count": 94
        }
      ]
    },
    {
      "cell_type": "markdown",
      "metadata": {
        "id": "uGpmnfAi971S"
      },
      "source": [
        "###<b>Tuning hyperparameters to reduce overfitting on Train data<b/>"
      ]
    },
    {
      "cell_type": "code",
      "metadata": {
        "colab": {
          "base_uri": "https://localhost:8080/"
        },
        "id": "KPHj1lln9UgS",
        "outputId": "96cff4f9-613d-4770-d704-8af4f26fc8da"
      },
      "source": [
        "#Ist attempt with min_samples_leaf = 4\n",
        "cls2 = RandomForestClassifier(n_estimators = 1000,class_weight=\"balanced\",random_state=235,n_jobs=-1,max_depth = 7,\n",
        "                              max_features= 5,min_samples_leaf=4)\n",
        "cls2.fit(x_train2,y_train2)\n",
        "# predictions\n",
        "new_train_preds = cls2.predict(x_train2)\n",
        "new_test_preds = cls2.predict(x_test2)\n",
        "# classification report\n",
        "p('Train data: \\n',classification_report(y_train2,new_train_preds))\n",
        "p('--'*30)\n",
        "p('Test data: \\n',classification_report(y_test2,new_test_preds))\n",
        "p('roc_auc on train data: ',roc_auc_score(y_train2,new_train_preds))\n",
        "p('roc_auc on train data: ',roc_auc_score(y_test2,new_test_preds))"
      ],
      "execution_count": 116,
      "outputs": [
        {
          "output_type": "stream",
          "name": "stdout",
          "text": [
            "Train data: \n",
            "               precision    recall  f1-score   support\n",
            "\n",
            "           0       1.00      0.96      0.98      4913\n",
            "           1       0.48      1.00      0.65       176\n",
            "\n",
            "    accuracy                           0.96      5089\n",
            "   macro avg       0.74      0.98      0.81      5089\n",
            "weighted avg       0.98      0.96      0.97      5089\n",
            "\n",
            "------------------------------------------------------------\n",
            "Test data: \n",
            "               precision    recall  f1-score   support\n",
            "\n",
            "           0       0.99      0.95      0.97      1229\n",
            "           1       0.32      0.64      0.42        44\n",
            "\n",
            "    accuracy                           0.94      1273\n",
            "   macro avg       0.65      0.79      0.70      1273\n",
            "weighted avg       0.96      0.94      0.95      1273\n",
            "\n",
            "roc_auc on train data:  0.9804600040708326\n",
            "roc_auc on train data:  0.7937717286781566\n"
          ]
        }
      ]
    },
    {
      "cell_type": "code",
      "metadata": {
        "colab": {
          "base_uri": "https://localhost:8080/"
        },
        "id": "Sn6rmCH2-2zo",
        "outputId": "e5862c5c-af25-4db1-97aa-29a32b3a7db3"
      },
      "source": [
        "# Second attempt with min_samples_leaf =10\n",
        "cls2 = RandomForestClassifier(n_estimators = 1000,class_weight=\"balanced\",random_state=235,n_jobs=-1,max_depth = 7,\n",
        "                              max_features= 5,min_samples_leaf=10)\n",
        "cls2.fit(x_train2,y_train2)\n",
        "#predictions\n",
        "new_train_preds = cls2.predict(x_train2)\n",
        "new_test_preds = cls2.predict(x_test2)\n",
        "# classification report\n",
        "p('roc_auc on train data: ',classification_report(y_train2,new_train_preds))\n",
        "p('--'*30)\n",
        "p('roc_auc on train data: ',classification_report(y_test2,new_test_preds))\n",
        "p('roc_auc on train data: ',roc_auc_score(y_train2,new_train_preds))\n",
        "p('roc_auc on train data: ',roc_auc_score(y_test2,new_test_preds))"
      ],
      "execution_count": 117,
      "outputs": [
        {
          "output_type": "stream",
          "name": "stdout",
          "text": [
            "roc_auc on train data:                precision    recall  f1-score   support\n",
            "\n",
            "           0       1.00      0.95      0.98      4913\n",
            "           1       0.43      0.97      0.60       176\n",
            "\n",
            "    accuracy                           0.95      5089\n",
            "   macro avg       0.71      0.96      0.79      5089\n",
            "weighted avg       0.98      0.95      0.96      5089\n",
            "\n",
            "------------------------------------------------------------\n",
            "roc_auc on train data:                precision    recall  f1-score   support\n",
            "\n",
            "           0       0.99      0.95      0.97      1229\n",
            "           1       0.31      0.68      0.43        44\n",
            "\n",
            "    accuracy                           0.94      1273\n",
            "   macro avg       0.65      0.81      0.70      1273\n",
            "weighted avg       0.96      0.94      0.95      1273\n",
            "\n",
            "roc_auc on train data:  0.9627952510038303\n",
            "roc_auc on train data:  0.8136511576300021\n"
          ]
        }
      ]
    },
    {
      "cell_type": "markdown",
      "metadata": {
        "id": "ZaIeGsvUKFRN"
      },
      "source": [
        "* In the second attempt we have successfully reduced recall on train data by 3% and hence reduce the overfitting.\n",
        "* We have also increased both recall and roc-auc score for the test data."
      ]
    },
    {
      "cell_type": "code",
      "metadata": {
        "id": "Lia0YvFkJ3nw"
      },
      "source": [
        ""
      ],
      "execution_count": null,
      "outputs": []
    },
    {
      "cell_type": "code",
      "metadata": {
        "id": "opb2A_hBIa5P"
      },
      "source": [
        ""
      ],
      "execution_count": 112,
      "outputs": []
    }
  ]
}